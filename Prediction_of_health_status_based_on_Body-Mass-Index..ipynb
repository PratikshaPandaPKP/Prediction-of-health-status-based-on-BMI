{
 "cells": [
  {
   "cell_type": "code",
   "execution_count": 1,
   "id": "03414337",
   "metadata": {},
   "outputs": [],
   "source": [
    "# Importing libraries and ignoring FutureWarnings to ensure clean code execution\n",
    "import pandas as pd\n",
    "import numpy as np\n",
    "import warnings\n",
    "warnings.simplefilter(action='ignore', category=FutureWarning)"
   ]
  },
  {
   "cell_type": "code",
   "execution_count": 2,
   "id": "2abcbce5",
   "metadata": {},
   "outputs": [],
   "source": [
    "# Reading the dataset\n",
    "df=pd.read_csv(\"F:/bmi_data.csv\")"
   ]
  },
  {
   "cell_type": "code",
   "execution_count": 3,
   "id": "aae6c379",
   "metadata": {},
   "outputs": [
    {
     "data": {
      "text/html": [
       "<div>\n",
       "<style scoped>\n",
       "    .dataframe tbody tr th:only-of-type {\n",
       "        vertical-align: middle;\n",
       "    }\n",
       "\n",
       "    .dataframe tbody tr th {\n",
       "        vertical-align: top;\n",
       "    }\n",
       "\n",
       "    .dataframe thead th {\n",
       "        text-align: right;\n",
       "    }\n",
       "</style>\n",
       "<table border=\"1\" class=\"dataframe\">\n",
       "  <thead>\n",
       "    <tr style=\"text-align: right;\">\n",
       "      <th></th>\n",
       "      <th>Sex</th>\n",
       "      <th>Age</th>\n",
       "      <th>Height(Inches)</th>\n",
       "      <th>Weight(Pounds)</th>\n",
       "      <th>BMI</th>\n",
       "    </tr>\n",
       "  </thead>\n",
       "  <tbody>\n",
       "    <tr>\n",
       "      <th>0</th>\n",
       "      <td>Female</td>\n",
       "      <td>21</td>\n",
       "      <td>65.78331</td>\n",
       "      <td>112.9925</td>\n",
       "      <td>18.357646</td>\n",
       "    </tr>\n",
       "    <tr>\n",
       "      <th>1</th>\n",
       "      <td>Female</td>\n",
       "      <td>35</td>\n",
       "      <td>71.51521</td>\n",
       "      <td>136.4873</td>\n",
       "      <td>18.762652</td>\n",
       "    </tr>\n",
       "    <tr>\n",
       "      <th>2</th>\n",
       "      <td>Female</td>\n",
       "      <td>27</td>\n",
       "      <td>69.39874</td>\n",
       "      <td>153.0269</td>\n",
       "      <td>22.338985</td>\n",
       "    </tr>\n",
       "    <tr>\n",
       "      <th>3</th>\n",
       "      <td>Male</td>\n",
       "      <td>24</td>\n",
       "      <td>68.21660</td>\n",
       "      <td>142.3354</td>\n",
       "      <td>21.504612</td>\n",
       "    </tr>\n",
       "    <tr>\n",
       "      <th>4</th>\n",
       "      <td>Female</td>\n",
       "      <td>18</td>\n",
       "      <td>67.78781</td>\n",
       "      <td>144.2971</td>\n",
       "      <td>22.077669</td>\n",
       "    </tr>\n",
       "    <tr>\n",
       "      <th>...</th>\n",
       "      <td>...</td>\n",
       "      <td>...</td>\n",
       "      <td>...</td>\n",
       "      <td>...</td>\n",
       "      <td>...</td>\n",
       "    </tr>\n",
       "    <tr>\n",
       "      <th>24995</th>\n",
       "      <td>Male</td>\n",
       "      <td>35</td>\n",
       "      <td>69.50215</td>\n",
       "      <td>118.0312</td>\n",
       "      <td>17.179051</td>\n",
       "    </tr>\n",
       "    <tr>\n",
       "      <th>24996</th>\n",
       "      <td>Male</td>\n",
       "      <td>26</td>\n",
       "      <td>64.54826</td>\n",
       "      <td>120.1932</td>\n",
       "      <td>20.281947</td>\n",
       "    </tr>\n",
       "    <tr>\n",
       "      <th>24997</th>\n",
       "      <td>Female</td>\n",
       "      <td>23</td>\n",
       "      <td>64.69855</td>\n",
       "      <td>118.2655</td>\n",
       "      <td>19.864050</td>\n",
       "    </tr>\n",
       "    <tr>\n",
       "      <th>24998</th>\n",
       "      <td>Male</td>\n",
       "      <td>20</td>\n",
       "      <td>67.52918</td>\n",
       "      <td>132.2682</td>\n",
       "      <td>20.392540</td>\n",
       "    </tr>\n",
       "    <tr>\n",
       "      <th>24999</th>\n",
       "      <td>Female</td>\n",
       "      <td>34</td>\n",
       "      <td>68.87761</td>\n",
       "      <td>124.8742</td>\n",
       "      <td>18.506121</td>\n",
       "    </tr>\n",
       "  </tbody>\n",
       "</table>\n",
       "<p>25000 rows × 5 columns</p>\n",
       "</div>"
      ],
      "text/plain": [
       "          Sex  Age  Height(Inches)  Weight(Pounds)        BMI\n",
       "0      Female   21        65.78331        112.9925  18.357646\n",
       "1      Female   35        71.51521        136.4873  18.762652\n",
       "2      Female   27        69.39874        153.0269  22.338985\n",
       "3        Male   24        68.21660        142.3354  21.504612\n",
       "4      Female   18        67.78781        144.2971  22.077669\n",
       "...       ...  ...             ...             ...        ...\n",
       "24995    Male   35        69.50215        118.0312  17.179051\n",
       "24996    Male   26        64.54826        120.1932  20.281947\n",
       "24997  Female   23        64.69855        118.2655  19.864050\n",
       "24998    Male   20        67.52918        132.2682  20.392540\n",
       "24999  Female   34        68.87761        124.8742  18.506121\n",
       "\n",
       "[25000 rows x 5 columns]"
      ]
     },
     "execution_count": 3,
     "metadata": {},
     "output_type": "execute_result"
    }
   ],
   "source": [
    "# Displaying the contents of the DataFrame 'df'\n",
    "df"
   ]
  },
  {
   "cell_type": "code",
   "execution_count": 4,
   "id": "b0e07d3a",
   "metadata": {},
   "outputs": [
    {
     "data": {
      "text/html": [
       "<div>\n",
       "<style scoped>\n",
       "    .dataframe tbody tr th:only-of-type {\n",
       "        vertical-align: middle;\n",
       "    }\n",
       "\n",
       "    .dataframe tbody tr th {\n",
       "        vertical-align: top;\n",
       "    }\n",
       "\n",
       "    .dataframe thead th {\n",
       "        text-align: right;\n",
       "    }\n",
       "</style>\n",
       "<table border=\"1\" class=\"dataframe\">\n",
       "  <thead>\n",
       "    <tr style=\"text-align: right;\">\n",
       "      <th></th>\n",
       "      <th>Sex</th>\n",
       "      <th>Age</th>\n",
       "      <th>Height(Inches)</th>\n",
       "      <th>Weight(Pounds)</th>\n",
       "      <th>BMI</th>\n",
       "    </tr>\n",
       "  </thead>\n",
       "  <tbody>\n",
       "    <tr>\n",
       "      <th>0</th>\n",
       "      <td>Female</td>\n",
       "      <td>21</td>\n",
       "      <td>65.78331</td>\n",
       "      <td>112.9925</td>\n",
       "      <td>18.357646</td>\n",
       "    </tr>\n",
       "    <tr>\n",
       "      <th>1</th>\n",
       "      <td>Female</td>\n",
       "      <td>35</td>\n",
       "      <td>71.51521</td>\n",
       "      <td>136.4873</td>\n",
       "      <td>18.762652</td>\n",
       "    </tr>\n",
       "    <tr>\n",
       "      <th>2</th>\n",
       "      <td>Female</td>\n",
       "      <td>27</td>\n",
       "      <td>69.39874</td>\n",
       "      <td>153.0269</td>\n",
       "      <td>22.338985</td>\n",
       "    </tr>\n",
       "    <tr>\n",
       "      <th>3</th>\n",
       "      <td>Male</td>\n",
       "      <td>24</td>\n",
       "      <td>68.21660</td>\n",
       "      <td>142.3354</td>\n",
       "      <td>21.504612</td>\n",
       "    </tr>\n",
       "    <tr>\n",
       "      <th>4</th>\n",
       "      <td>Female</td>\n",
       "      <td>18</td>\n",
       "      <td>67.78781</td>\n",
       "      <td>144.2971</td>\n",
       "      <td>22.077669</td>\n",
       "    </tr>\n",
       "    <tr>\n",
       "      <th>5</th>\n",
       "      <td>Female</td>\n",
       "      <td>22</td>\n",
       "      <td>68.69784</td>\n",
       "      <td>123.3024</td>\n",
       "      <td>18.368944</td>\n",
       "    </tr>\n",
       "    <tr>\n",
       "      <th>6</th>\n",
       "      <td>Male</td>\n",
       "      <td>35</td>\n",
       "      <td>69.80204</td>\n",
       "      <td>141.4947</td>\n",
       "      <td>NaN</td>\n",
       "    </tr>\n",
       "    <tr>\n",
       "      <th>7</th>\n",
       "      <td>Male</td>\n",
       "      <td>19</td>\n",
       "      <td>70.01472</td>\n",
       "      <td>136.4623</td>\n",
       "      <td>19.571891</td>\n",
       "    </tr>\n",
       "    <tr>\n",
       "      <th>8</th>\n",
       "      <td>Female</td>\n",
       "      <td>28</td>\n",
       "      <td>67.90265</td>\n",
       "      <td>112.3723</td>\n",
       "      <td>17.135021</td>\n",
       "    </tr>\n",
       "    <tr>\n",
       "      <th>9</th>\n",
       "      <td>Male</td>\n",
       "      <td>25</td>\n",
       "      <td>66.78236</td>\n",
       "      <td>120.6672</td>\n",
       "      <td>19.022366</td>\n",
       "    </tr>\n",
       "  </tbody>\n",
       "</table>\n",
       "</div>"
      ],
      "text/plain": [
       "      Sex  Age  Height(Inches)  Weight(Pounds)        BMI\n",
       "0  Female   21        65.78331        112.9925  18.357646\n",
       "1  Female   35        71.51521        136.4873  18.762652\n",
       "2  Female   27        69.39874        153.0269  22.338985\n",
       "3    Male   24        68.21660        142.3354  21.504612\n",
       "4  Female   18        67.78781        144.2971  22.077669\n",
       "5  Female   22        68.69784        123.3024  18.368944\n",
       "6    Male   35        69.80204        141.4947        NaN\n",
       "7    Male   19        70.01472        136.4623  19.571891\n",
       "8  Female   28        67.90265        112.3723  17.135021\n",
       "9    Male   25        66.78236        120.6672  19.022366"
      ]
     },
     "execution_count": 4,
     "metadata": {},
     "output_type": "execute_result"
    }
   ],
   "source": [
    "# Displaying the first 10 rows of the DataFrame 'df'\n",
    "df.head(10)"
   ]
  },
  {
   "cell_type": "code",
   "execution_count": 5,
   "id": "6b9ff58d",
   "metadata": {},
   "outputs": [
    {
     "data": {
      "text/plain": [
       "(25000, 5)"
      ]
     },
     "execution_count": 5,
     "metadata": {},
     "output_type": "execute_result"
    }
   ],
   "source": [
    "# Checking the shape (number of rows and columns) of the DataFrame 'df'\n",
    "df.shape"
   ]
  },
  {
   "cell_type": "code",
   "execution_count": 6,
   "id": "22802d94",
   "metadata": {},
   "outputs": [
    {
     "data": {
      "text/plain": [
       "Sex                0\n",
       "Age                0\n",
       "Height(Inches)    19\n",
       "Weight(Pounds)    16\n",
       "BMI               50\n",
       "dtype: int64"
      ]
     },
     "execution_count": 6,
     "metadata": {},
     "output_type": "execute_result"
    }
   ],
   "source": [
    "# Counting the number of missing (null) values in each column of the DataFrame 'df'\n",
    "df.isnull().sum()"
   ]
  },
  {
   "cell_type": "markdown",
   "id": "b34ff462",
   "metadata": {},
   "source": [
    "# Method 1"
   ]
  },
  {
   "cell_type": "code",
   "execution_count": 7,
   "id": "7dbb878e",
   "metadata": {},
   "outputs": [],
   "source": [
    "# Creating a copy of the DataFrame 'df' named 'df_copy'\n",
    "df_copy=df"
   ]
  },
  {
   "cell_type": "code",
   "execution_count": 8,
   "id": "00294161",
   "metadata": {},
   "outputs": [
    {
     "data": {
      "text/html": [
       "<div>\n",
       "<style scoped>\n",
       "    .dataframe tbody tr th:only-of-type {\n",
       "        vertical-align: middle;\n",
       "    }\n",
       "\n",
       "    .dataframe tbody tr th {\n",
       "        vertical-align: top;\n",
       "    }\n",
       "\n",
       "    .dataframe thead th {\n",
       "        text-align: right;\n",
       "    }\n",
       "</style>\n",
       "<table border=\"1\" class=\"dataframe\">\n",
       "  <thead>\n",
       "    <tr style=\"text-align: right;\">\n",
       "      <th></th>\n",
       "      <th>Sex</th>\n",
       "      <th>Age</th>\n",
       "      <th>Height(Inches)</th>\n",
       "      <th>Weight(Pounds)</th>\n",
       "      <th>BMI</th>\n",
       "    </tr>\n",
       "  </thead>\n",
       "  <tbody>\n",
       "    <tr>\n",
       "      <th>0</th>\n",
       "      <td>Female</td>\n",
       "      <td>21</td>\n",
       "      <td>65.78331</td>\n",
       "      <td>112.9925</td>\n",
       "      <td>18.357646</td>\n",
       "    </tr>\n",
       "    <tr>\n",
       "      <th>1</th>\n",
       "      <td>Female</td>\n",
       "      <td>35</td>\n",
       "      <td>71.51521</td>\n",
       "      <td>136.4873</td>\n",
       "      <td>18.762652</td>\n",
       "    </tr>\n",
       "    <tr>\n",
       "      <th>2</th>\n",
       "      <td>Female</td>\n",
       "      <td>27</td>\n",
       "      <td>69.39874</td>\n",
       "      <td>153.0269</td>\n",
       "      <td>22.338985</td>\n",
       "    </tr>\n",
       "    <tr>\n",
       "      <th>3</th>\n",
       "      <td>Male</td>\n",
       "      <td>24</td>\n",
       "      <td>68.21660</td>\n",
       "      <td>142.3354</td>\n",
       "      <td>21.504612</td>\n",
       "    </tr>\n",
       "    <tr>\n",
       "      <th>4</th>\n",
       "      <td>Female</td>\n",
       "      <td>18</td>\n",
       "      <td>67.78781</td>\n",
       "      <td>144.2971</td>\n",
       "      <td>22.077669</td>\n",
       "    </tr>\n",
       "    <tr>\n",
       "      <th>...</th>\n",
       "      <td>...</td>\n",
       "      <td>...</td>\n",
       "      <td>...</td>\n",
       "      <td>...</td>\n",
       "      <td>...</td>\n",
       "    </tr>\n",
       "    <tr>\n",
       "      <th>24995</th>\n",
       "      <td>Male</td>\n",
       "      <td>35</td>\n",
       "      <td>69.50215</td>\n",
       "      <td>118.0312</td>\n",
       "      <td>17.179051</td>\n",
       "    </tr>\n",
       "    <tr>\n",
       "      <th>24996</th>\n",
       "      <td>Male</td>\n",
       "      <td>26</td>\n",
       "      <td>64.54826</td>\n",
       "      <td>120.1932</td>\n",
       "      <td>20.281947</td>\n",
       "    </tr>\n",
       "    <tr>\n",
       "      <th>24997</th>\n",
       "      <td>Female</td>\n",
       "      <td>23</td>\n",
       "      <td>64.69855</td>\n",
       "      <td>118.2655</td>\n",
       "      <td>19.864050</td>\n",
       "    </tr>\n",
       "    <tr>\n",
       "      <th>24998</th>\n",
       "      <td>Male</td>\n",
       "      <td>20</td>\n",
       "      <td>67.52918</td>\n",
       "      <td>132.2682</td>\n",
       "      <td>20.392540</td>\n",
       "    </tr>\n",
       "    <tr>\n",
       "      <th>24999</th>\n",
       "      <td>Female</td>\n",
       "      <td>34</td>\n",
       "      <td>68.87761</td>\n",
       "      <td>124.8742</td>\n",
       "      <td>18.506121</td>\n",
       "    </tr>\n",
       "  </tbody>\n",
       "</table>\n",
       "<p>25000 rows × 5 columns</p>\n",
       "</div>"
      ],
      "text/plain": [
       "          Sex  Age  Height(Inches)  Weight(Pounds)        BMI\n",
       "0      Female   21        65.78331        112.9925  18.357646\n",
       "1      Female   35        71.51521        136.4873  18.762652\n",
       "2      Female   27        69.39874        153.0269  22.338985\n",
       "3        Male   24        68.21660        142.3354  21.504612\n",
       "4      Female   18        67.78781        144.2971  22.077669\n",
       "...       ...  ...             ...             ...        ...\n",
       "24995    Male   35        69.50215        118.0312  17.179051\n",
       "24996    Male   26        64.54826        120.1932  20.281947\n",
       "24997  Female   23        64.69855        118.2655  19.864050\n",
       "24998    Male   20        67.52918        132.2682  20.392540\n",
       "24999  Female   34        68.87761        124.8742  18.506121\n",
       "\n",
       "[25000 rows x 5 columns]"
      ]
     },
     "execution_count": 8,
     "metadata": {},
     "output_type": "execute_result"
    }
   ],
   "source": [
    "# Displaying the contents of the DataFrame 'df_copy'\n",
    "df_copy"
   ]
  },
  {
   "cell_type": "code",
   "execution_count": 9,
   "id": "b553839d",
   "metadata": {},
   "outputs": [
    {
     "data": {
      "text/plain": [
       "(25000, 5)"
      ]
     },
     "execution_count": 9,
     "metadata": {},
     "output_type": "execute_result"
    }
   ],
   "source": [
    "# Checking the shape (number of rows and columns) of the DataFrame 'df_copy'\n",
    "df_copy.shape"
   ]
  },
  {
   "cell_type": "code",
   "execution_count": 10,
   "id": "e696a9e5",
   "metadata": {},
   "outputs": [
    {
     "data": {
      "text/plain": [
       "Sex                0\n",
       "Age                0\n",
       "Height(Inches)    19\n",
       "Weight(Pounds)    16\n",
       "BMI               50\n",
       "dtype: int64"
      ]
     },
     "execution_count": 10,
     "metadata": {},
     "output_type": "execute_result"
    }
   ],
   "source": [
    "# Counting the number of missing (null) values in each column of the DataFrame 'df_copy'\n",
    "df_copy.isnull().sum()"
   ]
  },
  {
   "cell_type": "code",
   "execution_count": 11,
   "id": "31d937d8",
   "metadata": {},
   "outputs": [],
   "source": [
    "# Removing rows with missing (null) values from the DataFrame 'df_copy' and updating it in place\n",
    "df_copy.dropna(inplace=True)"
   ]
  },
  {
   "cell_type": "code",
   "execution_count": 12,
   "id": "6f2bf86d",
   "metadata": {},
   "outputs": [
    {
     "data": {
      "text/plain": [
       "Sex               0\n",
       "Age               0\n",
       "Height(Inches)    0\n",
       "Weight(Pounds)    0\n",
       "BMI               0\n",
       "dtype: int64"
      ]
     },
     "execution_count": 12,
     "metadata": {},
     "output_type": "execute_result"
    }
   ],
   "source": [
    "#Checking the number of missing values again.\n",
    "df_copy.isnull().sum()"
   ]
  },
  {
   "cell_type": "code",
   "execution_count": 13,
   "id": "15e9e968",
   "metadata": {},
   "outputs": [
    {
     "name": "stdout",
     "output_type": "stream",
     "text": [
      "<class 'pandas.core.frame.DataFrame'>\n",
      "Int64Index: 24950 entries, 0 to 24999\n",
      "Data columns (total 5 columns):\n",
      " #   Column          Non-Null Count  Dtype  \n",
      "---  ------          --------------  -----  \n",
      " 0   Sex             24950 non-null  object \n",
      " 1   Age             24950 non-null  int64  \n",
      " 2   Height(Inches)  24950 non-null  float64\n",
      " 3   Weight(Pounds)  24950 non-null  float64\n",
      " 4   BMI             24950 non-null  float64\n",
      "dtypes: float64(3), int64(1), object(1)\n",
      "memory usage: 1.1+ MB\n"
     ]
    }
   ],
   "source": [
    "# Displaying information about the DataFrame 'df_copy', including data types and non-null counts\n",
    "df_copy.info()"
   ]
  },
  {
   "cell_type": "code",
   "execution_count": 14,
   "id": "7588c72d",
   "metadata": {},
   "outputs": [
    {
     "data": {
      "text/plain": [
       "(24950, 5)"
      ]
     },
     "execution_count": 14,
     "metadata": {},
     "output_type": "execute_result"
    }
   ],
   "source": [
    "# Checking the shape (number of rows and columns) of the DataFrame 'df_copy' after removing missing values\n",
    "df_copy.shape"
   ]
  },
  {
   "cell_type": "code",
   "execution_count": 15,
   "id": "b3956484",
   "metadata": {},
   "outputs": [],
   "source": [
    "# Renaming the column 'Height(Inches)' to 'Height' in the DataFrame 'df_copy' and applying the change in place\n",
    "df_copy.rename(columns={'Height(Inches)':'Height'},inplace=True)"
   ]
  },
  {
   "cell_type": "code",
   "execution_count": 16,
   "id": "ef2c668d",
   "metadata": {},
   "outputs": [],
   "source": [
    "# Renaming the column 'Weight(Pounds)' to 'Weight' in the DataFrame 'df_copy' and applying the change in place\n",
    "df_copy.rename(columns={'Weight(Pounds)':'Weight'},inplace=True)"
   ]
  },
  {
   "cell_type": "code",
   "execution_count": 17,
   "id": "9f23ce87",
   "metadata": {},
   "outputs": [
    {
     "data": {
      "text/html": [
       "<div>\n",
       "<style scoped>\n",
       "    .dataframe tbody tr th:only-of-type {\n",
       "        vertical-align: middle;\n",
       "    }\n",
       "\n",
       "    .dataframe tbody tr th {\n",
       "        vertical-align: top;\n",
       "    }\n",
       "\n",
       "    .dataframe thead th {\n",
       "        text-align: right;\n",
       "    }\n",
       "</style>\n",
       "<table border=\"1\" class=\"dataframe\">\n",
       "  <thead>\n",
       "    <tr style=\"text-align: right;\">\n",
       "      <th></th>\n",
       "      <th>Sex</th>\n",
       "      <th>Age</th>\n",
       "      <th>Height</th>\n",
       "      <th>Weight</th>\n",
       "      <th>BMI</th>\n",
       "    </tr>\n",
       "  </thead>\n",
       "  <tbody>\n",
       "    <tr>\n",
       "      <th>0</th>\n",
       "      <td>Female</td>\n",
       "      <td>21</td>\n",
       "      <td>65.78331</td>\n",
       "      <td>112.9925</td>\n",
       "      <td>18.357646</td>\n",
       "    </tr>\n",
       "    <tr>\n",
       "      <th>1</th>\n",
       "      <td>Female</td>\n",
       "      <td>35</td>\n",
       "      <td>71.51521</td>\n",
       "      <td>136.4873</td>\n",
       "      <td>18.762652</td>\n",
       "    </tr>\n",
       "    <tr>\n",
       "      <th>2</th>\n",
       "      <td>Female</td>\n",
       "      <td>27</td>\n",
       "      <td>69.39874</td>\n",
       "      <td>153.0269</td>\n",
       "      <td>22.338985</td>\n",
       "    </tr>\n",
       "    <tr>\n",
       "      <th>3</th>\n",
       "      <td>Male</td>\n",
       "      <td>24</td>\n",
       "      <td>68.21660</td>\n",
       "      <td>142.3354</td>\n",
       "      <td>21.504612</td>\n",
       "    </tr>\n",
       "    <tr>\n",
       "      <th>4</th>\n",
       "      <td>Female</td>\n",
       "      <td>18</td>\n",
       "      <td>67.78781</td>\n",
       "      <td>144.2971</td>\n",
       "      <td>22.077669</td>\n",
       "    </tr>\n",
       "    <tr>\n",
       "      <th>...</th>\n",
       "      <td>...</td>\n",
       "      <td>...</td>\n",
       "      <td>...</td>\n",
       "      <td>...</td>\n",
       "      <td>...</td>\n",
       "    </tr>\n",
       "    <tr>\n",
       "      <th>24995</th>\n",
       "      <td>Male</td>\n",
       "      <td>35</td>\n",
       "      <td>69.50215</td>\n",
       "      <td>118.0312</td>\n",
       "      <td>17.179051</td>\n",
       "    </tr>\n",
       "    <tr>\n",
       "      <th>24996</th>\n",
       "      <td>Male</td>\n",
       "      <td>26</td>\n",
       "      <td>64.54826</td>\n",
       "      <td>120.1932</td>\n",
       "      <td>20.281947</td>\n",
       "    </tr>\n",
       "    <tr>\n",
       "      <th>24997</th>\n",
       "      <td>Female</td>\n",
       "      <td>23</td>\n",
       "      <td>64.69855</td>\n",
       "      <td>118.2655</td>\n",
       "      <td>19.864050</td>\n",
       "    </tr>\n",
       "    <tr>\n",
       "      <th>24998</th>\n",
       "      <td>Male</td>\n",
       "      <td>20</td>\n",
       "      <td>67.52918</td>\n",
       "      <td>132.2682</td>\n",
       "      <td>20.392540</td>\n",
       "    </tr>\n",
       "    <tr>\n",
       "      <th>24999</th>\n",
       "      <td>Female</td>\n",
       "      <td>34</td>\n",
       "      <td>68.87761</td>\n",
       "      <td>124.8742</td>\n",
       "      <td>18.506121</td>\n",
       "    </tr>\n",
       "  </tbody>\n",
       "</table>\n",
       "<p>24950 rows × 5 columns</p>\n",
       "</div>"
      ],
      "text/plain": [
       "          Sex  Age    Height    Weight        BMI\n",
       "0      Female   21  65.78331  112.9925  18.357646\n",
       "1      Female   35  71.51521  136.4873  18.762652\n",
       "2      Female   27  69.39874  153.0269  22.338985\n",
       "3        Male   24  68.21660  142.3354  21.504612\n",
       "4      Female   18  67.78781  144.2971  22.077669\n",
       "...       ...  ...       ...       ...        ...\n",
       "24995    Male   35  69.50215  118.0312  17.179051\n",
       "24996    Male   26  64.54826  120.1932  20.281947\n",
       "24997  Female   23  64.69855  118.2655  19.864050\n",
       "24998    Male   20  67.52918  132.2682  20.392540\n",
       "24999  Female   34  68.87761  124.8742  18.506121\n",
       "\n",
       "[24950 rows x 5 columns]"
      ]
     },
     "execution_count": 17,
     "metadata": {},
     "output_type": "execute_result"
    }
   ],
   "source": [
    "#Checking the updated DataFrame df_copy\n",
    "df_copy"
   ]
  },
  {
   "cell_type": "code",
   "execution_count": 18,
   "id": "e946713c",
   "metadata": {},
   "outputs": [],
   "source": [
    "# Importing the LinearRegression class from the scikit-learn library for linear regression modeling\n",
    "from sklearn.linear_model import LinearRegression\n"
   ]
  },
  {
   "cell_type": "code",
   "execution_count": 19,
   "id": "a3041442",
   "metadata": {},
   "outputs": [],
   "source": [
    "# Creating a NumPy array 'X' containing the 'Height' column data from the DataFrame 'df_copy'\n",
    "X = np.array(df_copy['Height'])"
   ]
  },
  {
   "cell_type": "code",
   "execution_count": 20,
   "id": "9b0a8158",
   "metadata": {},
   "outputs": [
    {
     "data": {
      "text/plain": [
       "array([65.78331, 71.51521, 69.39874, ..., 64.69855, 67.52918, 68.87761])"
      ]
     },
     "execution_count": 20,
     "metadata": {},
     "output_type": "execute_result"
    }
   ],
   "source": [
    "# Displaying the content of the 'X' array containing height data\n",
    "X"
   ]
  },
  {
   "cell_type": "code",
   "execution_count": 21,
   "id": "991ce8e6",
   "metadata": {},
   "outputs": [
    {
     "data": {
      "text/plain": [
       "array([[65.78331, 71.51521, 69.39874, ..., 64.69855, 67.52918, 68.87761]])"
      ]
     },
     "execution_count": 21,
     "metadata": {},
     "output_type": "execute_result"
    }
   ],
   "source": [
    "# Reshaping the 'X' array to have dimensions (1, 24950)\n",
    "X.reshape(1,24950)"
   ]
  },
  {
   "cell_type": "code",
   "execution_count": 22,
   "id": "f30866f5",
   "metadata": {},
   "outputs": [
    {
     "data": {
      "text/plain": [
       "(24950,)"
      ]
     },
     "execution_count": 22,
     "metadata": {},
     "output_type": "execute_result"
    }
   ],
   "source": [
    "# Checking the shape of the 'X' array after reshaping\n",
    "X.shape"
   ]
  },
  {
   "cell_type": "code",
   "execution_count": 23,
   "id": "745cb289",
   "metadata": {},
   "outputs": [],
   "source": [
    "# Creating a NumPy array 'Y' containing the 'Weight' column data from the DataFrame 'df_copy'\n",
    "Y = np.array(df_copy['Weight'])"
   ]
  },
  {
   "cell_type": "code",
   "execution_count": 24,
   "id": "ca958c55",
   "metadata": {},
   "outputs": [
    {
     "data": {
      "text/plain": [
       "array([112.9925, 136.4873, 153.0269, ..., 118.2655, 132.2682, 124.8742])"
      ]
     },
     "execution_count": 24,
     "metadata": {},
     "output_type": "execute_result"
    }
   ],
   "source": [
    "# Displaying the content of the 'Y' array containing weight data\n",
    "Y"
   ]
  },
  {
   "cell_type": "code",
   "execution_count": 25,
   "id": "e35de01f",
   "metadata": {},
   "outputs": [
    {
     "data": {
      "text/plain": [
       "(24950,)"
      ]
     },
     "execution_count": 25,
     "metadata": {},
     "output_type": "execute_result"
    }
   ],
   "source": [
    "Y.shape"
   ]
  },
  {
   "cell_type": "code",
   "execution_count": 26,
   "id": "a49f56fd",
   "metadata": {},
   "outputs": [
    {
     "data": {
      "text/plain": [
       "(24950,)"
      ]
     },
     "execution_count": 26,
     "metadata": {},
     "output_type": "execute_result"
    }
   ],
   "source": [
    "X.shape"
   ]
  },
  {
   "cell_type": "code",
   "execution_count": 27,
   "id": "58b83ded",
   "metadata": {},
   "outputs": [
    {
     "data": {
      "text/plain": [
       "(24950,)"
      ]
     },
     "execution_count": 27,
     "metadata": {},
     "output_type": "execute_result"
    }
   ],
   "source": [
    "Y.shape"
   ]
  },
  {
   "cell_type": "code",
   "execution_count": 28,
   "id": "14bf11c3",
   "metadata": {},
   "outputs": [
    {
     "data": {
      "text/html": [
       "<style>#sk-container-id-1 {color: black;background-color: white;}#sk-container-id-1 pre{padding: 0;}#sk-container-id-1 div.sk-toggleable {background-color: white;}#sk-container-id-1 label.sk-toggleable__label {cursor: pointer;display: block;width: 100%;margin-bottom: 0;padding: 0.3em;box-sizing: border-box;text-align: center;}#sk-container-id-1 label.sk-toggleable__label-arrow:before {content: \"▸\";float: left;margin-right: 0.25em;color: #696969;}#sk-container-id-1 label.sk-toggleable__label-arrow:hover:before {color: black;}#sk-container-id-1 div.sk-estimator:hover label.sk-toggleable__label-arrow:before {color: black;}#sk-container-id-1 div.sk-toggleable__content {max-height: 0;max-width: 0;overflow: hidden;text-align: left;background-color: #f0f8ff;}#sk-container-id-1 div.sk-toggleable__content pre {margin: 0.2em;color: black;border-radius: 0.25em;background-color: #f0f8ff;}#sk-container-id-1 input.sk-toggleable__control:checked~div.sk-toggleable__content {max-height: 200px;max-width: 100%;overflow: auto;}#sk-container-id-1 input.sk-toggleable__control:checked~label.sk-toggleable__label-arrow:before {content: \"▾\";}#sk-container-id-1 div.sk-estimator input.sk-toggleable__control:checked~label.sk-toggleable__label {background-color: #d4ebff;}#sk-container-id-1 div.sk-label input.sk-toggleable__control:checked~label.sk-toggleable__label {background-color: #d4ebff;}#sk-container-id-1 input.sk-hidden--visually {border: 0;clip: rect(1px 1px 1px 1px);clip: rect(1px, 1px, 1px, 1px);height: 1px;margin: -1px;overflow: hidden;padding: 0;position: absolute;width: 1px;}#sk-container-id-1 div.sk-estimator {font-family: monospace;background-color: #f0f8ff;border: 1px dotted black;border-radius: 0.25em;box-sizing: border-box;margin-bottom: 0.5em;}#sk-container-id-1 div.sk-estimator:hover {background-color: #d4ebff;}#sk-container-id-1 div.sk-parallel-item::after {content: \"\";width: 100%;border-bottom: 1px solid gray;flex-grow: 1;}#sk-container-id-1 div.sk-label:hover label.sk-toggleable__label {background-color: #d4ebff;}#sk-container-id-1 div.sk-serial::before {content: \"\";position: absolute;border-left: 1px solid gray;box-sizing: border-box;top: 0;bottom: 0;left: 50%;z-index: 0;}#sk-container-id-1 div.sk-serial {display: flex;flex-direction: column;align-items: center;background-color: white;padding-right: 0.2em;padding-left: 0.2em;position: relative;}#sk-container-id-1 div.sk-item {position: relative;z-index: 1;}#sk-container-id-1 div.sk-parallel {display: flex;align-items: stretch;justify-content: center;background-color: white;position: relative;}#sk-container-id-1 div.sk-item::before, #sk-container-id-1 div.sk-parallel-item::before {content: \"\";position: absolute;border-left: 1px solid gray;box-sizing: border-box;top: 0;bottom: 0;left: 50%;z-index: -1;}#sk-container-id-1 div.sk-parallel-item {display: flex;flex-direction: column;z-index: 1;position: relative;background-color: white;}#sk-container-id-1 div.sk-parallel-item:first-child::after {align-self: flex-end;width: 50%;}#sk-container-id-1 div.sk-parallel-item:last-child::after {align-self: flex-start;width: 50%;}#sk-container-id-1 div.sk-parallel-item:only-child::after {width: 0;}#sk-container-id-1 div.sk-dashed-wrapped {border: 1px dashed gray;margin: 0 0.4em 0.5em 0.4em;box-sizing: border-box;padding-bottom: 0.4em;background-color: white;}#sk-container-id-1 div.sk-label label {font-family: monospace;font-weight: bold;display: inline-block;line-height: 1.2em;}#sk-container-id-1 div.sk-label-container {text-align: center;}#sk-container-id-1 div.sk-container {/* jupyter's `normalize.less` sets `[hidden] { display: none; }` but bootstrap.min.css set `[hidden] { display: none !important; }` so we also need the `!important` here to be able to override the default hidden behavior on the sphinx rendered scikit-learn.org. See: https://github.com/scikit-learn/scikit-learn/issues/21755 */display: inline-block !important;position: relative;}#sk-container-id-1 div.sk-text-repr-fallback {display: none;}</style><div id=\"sk-container-id-1\" class=\"sk-top-container\"><div class=\"sk-text-repr-fallback\"><pre>LinearRegression()</pre><b>In a Jupyter environment, please rerun this cell to show the HTML representation or trust the notebook. <br />On GitHub, the HTML representation is unable to render, please try loading this page with nbviewer.org.</b></div><div class=\"sk-container\" hidden><div class=\"sk-item\"><div class=\"sk-estimator sk-toggleable\"><input class=\"sk-toggleable__control sk-hidden--visually\" id=\"sk-estimator-id-1\" type=\"checkbox\" checked><label for=\"sk-estimator-id-1\" class=\"sk-toggleable__label sk-toggleable__label-arrow\">LinearRegression</label><div class=\"sk-toggleable__content\"><pre>LinearRegression()</pre></div></div></div></div></div>"
      ],
      "text/plain": [
       "LinearRegression()"
      ]
     },
     "execution_count": 28,
     "metadata": {},
     "output_type": "execute_result"
    }
   ],
   "source": [
    "\n",
    "# Extracting 'Height' and 'Weight' data from the DataFrame 'df_copy' and storing them in 'X' and 'y' arrays\n",
    "# Creating a LinearRegression model and fitting it to the 'X' and 'y' data\n",
    "X=df_copy.iloc[:, 2].values\n",
    "y=df_copy.iloc[:, 3].values\n",
    "\n",
    "regressor=LinearRegression()\n",
    "X=X.reshape(-1,1)\n",
    "regressor.fit(X,y)"
   ]
  },
  {
   "cell_type": "code",
   "execution_count": 29,
   "id": "64600687",
   "metadata": {},
   "outputs": [
    {
     "data": {
      "text/plain": [
       "(24950, 1)"
      ]
     },
     "execution_count": 29,
     "metadata": {},
     "output_type": "execute_result"
    }
   ],
   "source": [
    "# Checking the shape of the 'X' array after reshaping it for regression analysis\n",
    "X.shape"
   ]
  },
  {
   "cell_type": "code",
   "execution_count": 30,
   "id": "189e6d37",
   "metadata": {},
   "outputs": [],
   "source": [
    "# Importing the matplotlib library for creating plots and visualizations\n",
    "import matplotlib.pyplot as plt"
   ]
  },
  {
   "cell_type": "code",
   "execution_count": 31,
   "id": "514c2e0c",
   "metadata": {},
   "outputs": [
    {
     "data": {
      "text/plain": [
       "[<matplotlib.lines.Line2D at 0x1fbca773310>]"
      ]
     },
     "execution_count": 31,
     "metadata": {},
     "output_type": "execute_result"
    },
    {
     "data": {
      "image/png": "[encoded data removed]",
      "text/plain": [
       "<Figure size 432x288 with 1 Axes>"
      ]
     },
     "metadata": {
      "needs_background": "light"
     },
     "output_type": "display_data"
    }
   ],
   "source": [
    "# Setting the title of the plot as 'Height Vs Weight'\n",
    "# Creating a scatter plot with 'X' as the x-axis and 'y' as the y-axis\n",
    "\n",
    "plt.title('Height Vs Weight')\n",
    "plt.plot(X,y,'o')"
   ]
  },
  {
   "cell_type": "code",
   "execution_count": 32,
   "id": "28e8109b",
   "metadata": {},
   "outputs": [],
   "source": [
    "# Importing the seaborn library for enhanced data visualization capabilities\n",
    "import seaborn as sns"
   ]
  },
  {
   "cell_type": "code",
   "execution_count": 33,
   "id": "f37c065c",
   "metadata": {},
   "outputs": [
    {
     "data": {
      "text/html": [
       "<div>\n",
       "<style scoped>\n",
       "    .dataframe tbody tr th:only-of-type {\n",
       "        vertical-align: middle;\n",
       "    }\n",
       "\n",
       "    .dataframe tbody tr th {\n",
       "        vertical-align: top;\n",
       "    }\n",
       "\n",
       "    .dataframe thead th {\n",
       "        text-align: right;\n",
       "    }\n",
       "</style>\n",
       "<table border=\"1\" class=\"dataframe\">\n",
       "  <thead>\n",
       "    <tr style=\"text-align: right;\">\n",
       "      <th></th>\n",
       "      <th>Age</th>\n",
       "      <th>Height</th>\n",
       "      <th>Weight</th>\n",
       "      <th>BMI</th>\n",
       "    </tr>\n",
       "  </thead>\n",
       "  <tbody>\n",
       "    <tr>\n",
       "      <th>count</th>\n",
       "      <td>24950.000000</td>\n",
       "      <td>24950.000000</td>\n",
       "      <td>24950.000000</td>\n",
       "      <td>24950.000000</td>\n",
       "    </tr>\n",
       "    <tr>\n",
       "      <th>mean</th>\n",
       "      <td>26.497836</td>\n",
       "      <td>67.992821</td>\n",
       "      <td>127.077390</td>\n",
       "      <td>19.321368</td>\n",
       "    </tr>\n",
       "    <tr>\n",
       "      <th>std</th>\n",
       "      <td>5.190667</td>\n",
       "      <td>1.901551</td>\n",
       "      <td>11.663509</td>\n",
       "      <td>1.552091</td>\n",
       "    </tr>\n",
       "    <tr>\n",
       "      <th>min</th>\n",
       "      <td>18.000000</td>\n",
       "      <td>60.278360</td>\n",
       "      <td>78.014760</td>\n",
       "      <td>13.070879</td>\n",
       "    </tr>\n",
       "    <tr>\n",
       "      <th>25%</th>\n",
       "      <td>22.000000</td>\n",
       "      <td>66.704955</td>\n",
       "      <td>119.307525</td>\n",
       "      <td>18.278339</td>\n",
       "    </tr>\n",
       "    <tr>\n",
       "      <th>50%</th>\n",
       "      <td>27.000000</td>\n",
       "      <td>67.995700</td>\n",
       "      <td>127.152500</td>\n",
       "      <td>19.302160</td>\n",
       "    </tr>\n",
       "    <tr>\n",
       "      <th>75%</th>\n",
       "      <td>31.000000</td>\n",
       "      <td>69.271823</td>\n",
       "      <td>134.893550</td>\n",
       "      <td>20.357547</td>\n",
       "    </tr>\n",
       "    <tr>\n",
       "      <th>max</th>\n",
       "      <td>35.000000</td>\n",
       "      <td>75.152800</td>\n",
       "      <td>170.924000</td>\n",
       "      <td>26.023756</td>\n",
       "    </tr>\n",
       "  </tbody>\n",
       "</table>\n",
       "</div>"
      ],
      "text/plain": [
       "                Age        Height        Weight           BMI\n",
       "count  24950.000000  24950.000000  24950.000000  24950.000000\n",
       "mean      26.497836     67.992821    127.077390     19.321368\n",
       "std        5.190667      1.901551     11.663509      1.552091\n",
       "min       18.000000     60.278360     78.014760     13.070879\n",
       "25%       22.000000     66.704955    119.307525     18.278339\n",
       "50%       27.000000     67.995700    127.152500     19.302160\n",
       "75%       31.000000     69.271823    134.893550     20.357547\n",
       "max       35.000000     75.152800    170.924000     26.023756"
      ]
     },
     "execution_count": 33,
     "metadata": {},
     "output_type": "execute_result"
    }
   ],
   "source": [
    "# Generating descriptive statistics for the DataFrame 'df_copy', which includes summary statistics of the data\n",
    "df_copy.describe()"
   ]
  },
  {
   "cell_type": "code",
   "execution_count": 34,
   "id": "1df5ec2d",
   "metadata": {},
   "outputs": [
    {
     "data": {
      "image/png": "[encoded data removed]",
      "text/plain": [
       "<Figure size 720x360 with 1 Axes>"
      ]
     },
     "metadata": {
      "needs_background": "light"
     },
     "output_type": "display_data"
    }
   ],
   "source": [
    "# Creating a figure with a specific size (10x5 inches)\n",
    "# Setting the title of the plot as 'Age Distribution'\n",
    "# Generating a distribution plot (histogram) of the 'Age' column using seaborn\n",
    "# Displaying the plot using plt.show()\n",
    "\n",
    "plt.figure(figsize=(10, 5))\n",
    "plt.title('Age Distribution')\n",
    "sns.distplot(df_copy['Age'])\n",
    "plt.show()"
   ]
  },
  {
   "cell_type": "code",
   "execution_count": 35,
   "id": "73c24b06",
   "metadata": {},
   "outputs": [
    {
     "data": {
      "image/png": "[encoded data removed]",
      "text/plain": [
       "<Figure size 720x360 with 1 Axes>"
      ]
     },
     "metadata": {
      "needs_background": "light"
     },
     "output_type": "display_data"
    }
   ],
   "source": [
    "# Creating a figure with a specific size (10x5 inches)\n",
    "# Setting the title of the plot as 'Height Distribution'\n",
    "# Generating a distribution plot (histogram) of the 'Height' column using seaborn\n",
    "# Displaying the plot using plt.show()\n",
    "\n",
    "plt.figure(figsize=(10, 5))\n",
    "plt.title('Height Distribution')\n",
    "sns.distplot(df_copy['Height'])\n",
    "plt.show()"
   ]
  },
  {
   "cell_type": "code",
   "execution_count": 36,
   "id": "3e36b6bd",
   "metadata": {},
   "outputs": [
    {
     "data": {
      "image/png": "[encoded data removed]",
      "text/plain": [
       "<Figure size 720x360 with 1 Axes>"
      ]
     },
     "metadata": {
      "needs_background": "light"
     },
     "output_type": "display_data"
    }
   ],
   "source": [
    "# Creating a figure with a specific size (10x5 inches)\n",
    "# Setting the title of the plot as 'Weight Distribution'\n",
    "# Generating a distribution plot (histogram) of the 'Weight' column using seaborn\n",
    "# Displaying the plot using plt.show()\n",
    "\n",
    "plt.figure(figsize=(10, 5))\n",
    "plt.title('Weight Distribution')\n",
    "sns.distplot(df_copy['Weight'])\n",
    "plt.show()"
   ]
  },
  {
   "cell_type": "code",
   "execution_count": 37,
   "id": "278d520d",
   "metadata": {},
   "outputs": [
    {
     "data": {
      "image/png": "[encoded data removed]",
      "text/plain": [
       "<Figure size 720x360 with 1 Axes>"
      ]
     },
     "metadata": {
      "needs_background": "light"
     },
     "output_type": "display_data"
    }
   ],
   "source": [
    "# Creating a figure with a specific size (10x5 inches)\n",
    "# Setting the title of the plot as 'BMI Distribution'\n",
    "# Generating a distribution plot (histogram) of the 'BMI' column using seaborn\n",
    "# Displaying the plot using plt.show()\n",
    "\n",
    "plt.figure(figsize=(10, 5))\n",
    "plt.title('BMI Distribution')\n",
    "sns.distplot(df_copy['BMI'])\n",
    "plt.show()"
   ]
  },
  {
   "cell_type": "code",
   "execution_count": 38,
   "id": "c2a4482d",
   "metadata": {},
   "outputs": [
    {
     "data": {
      "image/png": "[encoded data removed]",
      "text/plain": [
       "<Figure size 720x360 with 1 Axes>"
      ]
     },
     "metadata": {
      "needs_background": "light"
     },
     "output_type": "display_data"
    }
   ],
   "source": [
    "# Creating a figure with a specific size (10x5 inches)\n",
    "# Generating a countplot to visualize the count of each category in the 'Sex' column\n",
    "# Setting the title of the plot as 'Sex Count'\n",
    "# Displaying the plot using plt.show()\n",
    "\n",
    "plt.figure(figsize=(10, 5))\n",
    "sns.countplot(df_copy['Sex'])\n",
    "plt.title('Sex Count')\n",
    "plt.show()"
   ]
  },
  {
   "cell_type": "code",
   "execution_count": 39,
   "id": "ea299911",
   "metadata": {},
   "outputs": [
    {
     "data": {
      "text/plain": [
       "BMI       1.000000\n",
       "Weight    0.795607\n",
       "Age      -0.003323\n",
       "Height   -0.121230\n",
       "Name: BMI, dtype: float64"
      ]
     },
     "execution_count": 39,
     "metadata": {},
     "output_type": "execute_result"
    }
   ],
   "source": [
    "# Calculating the correlation matrix 'corr' for the DataFrame 'df_copy'\n",
    "# Sorting the correlation values of the 'BMI' column in descending order to see how strongly other variables correlate with BMI\n",
    "\n",
    "corr = df_copy.corr()\n",
    "corr['BMI'].sort_values(ascending=False)"
   ]
  },
  {
   "cell_type": "code",
   "execution_count": 40,
   "id": "fd3a7a8a",
   "metadata": {
    "scrolled": true
   },
   "outputs": [
    {
     "data": {
      "image/png": "[encoded data removed]",
      "text/plain": [
       "<Figure size 1080x720 with 2 Axes>"
      ]
     },
     "metadata": {
      "needs_background": "light"
     },
     "output_type": "display_data"
    }
   ],
   "source": [
    "# Creating a larger figure with a size of 15x10 inches\n",
    "# Generating a heatmap to visualize the correlation matrix 'corr' with annotations and a color map ('Reds')\n",
    "# Displaying the heatmap using plt.show()\n",
    "\n",
    "plt.figure(figsize=(15, 10))\n",
    "sns.heatmap(corr, annot=True, cmap='Reds')\n",
    "plt.show()"
   ]
  },
  {
   "cell_type": "markdown",
   "id": "5263d142",
   "metadata": {},
   "source": [
    "# Method 2"
   ]
  },
  {
   "cell_type": "code",
   "execution_count": 41,
   "id": "7c89d1b8",
   "metadata": {},
   "outputs": [],
   "source": [
    "# Creating a new DataFrame 'sex' that contains only the 'Sex' column\n",
    "# Removing the 'Sex' column from the original DataFrame 'df_copy' using the drop method\n",
    "\n",
    "sex = df_copy[['Sex']]\n",
    "df_copy.drop(columns='Sex', axis=1, inplace=True)"
   ]
  },
  {
   "cell_type": "code",
   "execution_count": 42,
   "id": "ccf5ba06",
   "metadata": {},
   "outputs": [],
   "source": [
    "# Importing the SimpleImputer class from scikit-learn for handling missing data through imputation\n",
    "from sklearn.impute import SimpleImputer"
   ]
  },
  {
   "cell_type": "code",
   "execution_count": 43,
   "id": "fcde9511",
   "metadata": {},
   "outputs": [],
   "source": [
    "# Creating an imputer object that fills missing values with the mean of the respective column\n",
    "# Transforming the 'df_copy' DataFrame using the imputer and storing the result in 'Data' DataFrame\n",
    "\n",
    "imputer = SimpleImputer(missing_values=np.nan, strategy='mean')\n",
    "Data = pd.DataFrame(imputer.fit_transform(df_copy), columns=df_copy.columns)"
   ]
  },
  {
   "cell_type": "code",
   "execution_count": 44,
   "id": "73dcb692",
   "metadata": {},
   "outputs": [
    {
     "data": {
      "text/plain": [
       "Age       0\n",
       "Height    0\n",
       "Weight    0\n",
       "BMI       0\n",
       "dtype: int64"
      ]
     },
     "execution_count": 44,
     "metadata": {},
     "output_type": "execute_result"
    }
   ],
   "source": [
    "df_copy.isnull().sum()"
   ]
  },
  {
   "cell_type": "code",
   "execution_count": 45,
   "id": "9911c6bb",
   "metadata": {},
   "outputs": [
    {
     "data": {
      "text/plain": [
       "BMI       1.000000\n",
       "Weight    0.795607\n",
       "Age      -0.003323\n",
       "Height   -0.121230\n",
       "Name: BMI, dtype: float64"
      ]
     },
     "execution_count": 45,
     "metadata": {},
     "output_type": "execute_result"
    }
   ],
   "source": [
    "corr1 = df_copy.corr()\n",
    "corr1['BMI'].sort_values(ascending=False)"
   ]
  },
  {
   "cell_type": "code",
   "execution_count": 46,
   "id": "85935d7e",
   "metadata": {},
   "outputs": [
    {
     "data": {
      "image/png": "[encoded data removed]",
      "text/plain": [
       "<Figure size 1080x720 with 2 Axes>"
      ]
     },
     "metadata": {
      "needs_background": "light"
     },
     "output_type": "display_data"
    }
   ],
   "source": [
    "plt.figure(figsize=(15, 10))\n",
    "sns.heatmap(corr1, annot=True, cmap='Reds')\n",
    "plt.show()"
   ]
  },
  {
   "cell_type": "code",
   "execution_count": 47,
   "id": "d3f55794",
   "metadata": {},
   "outputs": [
    {
     "data": {
      "text/html": [
       "<div>\n",
       "<style scoped>\n",
       "    .dataframe tbody tr th:only-of-type {\n",
       "        vertical-align: middle;\n",
       "    }\n",
       "\n",
       "    .dataframe tbody tr th {\n",
       "        vertical-align: top;\n",
       "    }\n",
       "\n",
       "    .dataframe thead th {\n",
       "        text-align: right;\n",
       "    }\n",
       "</style>\n",
       "<table border=\"1\" class=\"dataframe\">\n",
       "  <thead>\n",
       "    <tr style=\"text-align: right;\">\n",
       "      <th></th>\n",
       "      <th>Sex</th>\n",
       "    </tr>\n",
       "  </thead>\n",
       "  <tbody>\n",
       "    <tr>\n",
       "      <th>0</th>\n",
       "      <td>Female</td>\n",
       "    </tr>\n",
       "    <tr>\n",
       "      <th>1</th>\n",
       "      <td>Female</td>\n",
       "    </tr>\n",
       "    <tr>\n",
       "      <th>2</th>\n",
       "      <td>Female</td>\n",
       "    </tr>\n",
       "    <tr>\n",
       "      <th>3</th>\n",
       "      <td>Male</td>\n",
       "    </tr>\n",
       "    <tr>\n",
       "      <th>4</th>\n",
       "      <td>Female</td>\n",
       "    </tr>\n",
       "    <tr>\n",
       "      <th>...</th>\n",
       "      <td>...</td>\n",
       "    </tr>\n",
       "    <tr>\n",
       "      <th>24995</th>\n",
       "      <td>Male</td>\n",
       "    </tr>\n",
       "    <tr>\n",
       "      <th>24996</th>\n",
       "      <td>Male</td>\n",
       "    </tr>\n",
       "    <tr>\n",
       "      <th>24997</th>\n",
       "      <td>Female</td>\n",
       "    </tr>\n",
       "    <tr>\n",
       "      <th>24998</th>\n",
       "      <td>Male</td>\n",
       "    </tr>\n",
       "    <tr>\n",
       "      <th>24999</th>\n",
       "      <td>Female</td>\n",
       "    </tr>\n",
       "  </tbody>\n",
       "</table>\n",
       "<p>24950 rows × 1 columns</p>\n",
       "</div>"
      ],
      "text/plain": [
       "          Sex\n",
       "0      Female\n",
       "1      Female\n",
       "2      Female\n",
       "3        Male\n",
       "4      Female\n",
       "...       ...\n",
       "24995    Male\n",
       "24996    Male\n",
       "24997  Female\n",
       "24998    Male\n",
       "24999  Female\n",
       "\n",
       "[24950 rows x 1 columns]"
      ]
     },
     "execution_count": 47,
     "metadata": {},
     "output_type": "execute_result"
    }
   ],
   "source": [
    "# Displaying the content of the 'sex' DataFrame, which contains the 'Sex' column\n",
    "sex"
   ]
  },
  {
   "cell_type": "code",
   "execution_count": 48,
   "id": "f9db6507",
   "metadata": {},
   "outputs": [],
   "source": [
    "#Data pre processing"
   ]
  },
  {
   "cell_type": "code",
   "execution_count": 49,
   "id": "0289b967",
   "metadata": {},
   "outputs": [
    {
     "name": "stdout",
     "output_type": "stream",
     "text": [
      "       sex_Female  sex_Male\n",
      "0             1.0       0.0\n",
      "1             1.0       0.0\n",
      "2             1.0       0.0\n",
      "3             0.0       1.0\n",
      "4             1.0       0.0\n",
      "...           ...       ...\n",
      "24945         0.0       1.0\n",
      "24946         0.0       1.0\n",
      "24947         1.0       0.0\n",
      "24948         0.0       1.0\n",
      "24949         1.0       0.0\n",
      "\n",
      "[24950 rows x 2 columns]\n"
     ]
    }
   ],
   "source": [
    "# Importing the OneHotEncoder class from scikit-learn for one-hot encoding categorical data\n",
    "# Transforming the 'sex' column into one-hot encoded format and storing it in 'sex_encoded'\n",
    "# Retrieving the category labels and creating feature names for the one-hot encoded data\n",
    "\n",
    "from sklearn.preprocessing import OneHotEncoder\n",
    "\n",
    "OneHot = OneHotEncoder(sparse=False)\n",
    "sex_encoded = OneHot.fit_transform(sex.values.reshape(-1, 1))\n",
    "categories = OneHot.categories_[0]\n",
    "feature_names = [f'{col}_{category}' for col, category in zip(['sex'] * len(categories), categories)]\n",
    "\n",
    "#feature_names = OneHot.get_feature_names(['sex'])\n",
    "SEX = pd.DataFrame(sex_encoded, columns=feature_names)\n",
    "\n",
    "print(SEX)\n",
    "#SEX = pd.DataFrame(OneHot.fit_transform(sex), columns=OneHot.get_feature_names())"
   ]
  },
  {
   "cell_type": "code",
   "execution_count": 50,
   "id": "b95ec50d",
   "metadata": {},
   "outputs": [],
   "source": [
    "# Creating a 'target' variable containing the 'BMI' column data\n",
    "# Removing the 'BMI' column from the original DataFrame 'df_copy' using the drop method\n",
    "\n",
    "target = df_copy['BMI']\n",
    "df_copy.drop(columns='BMI', axis=1, inplace=True)"
   ]
  },
  {
   "cell_type": "code",
   "execution_count": 51,
   "id": "893a3c10",
   "metadata": {},
   "outputs": [
    {
     "data": {
      "text/plain": [
       "0    18.357646\n",
       "1    18.762652\n",
       "2    22.338985\n",
       "3    21.504612\n",
       "4    22.077669\n",
       "Name: BMI, dtype: float64"
      ]
     },
     "execution_count": 51,
     "metadata": {},
     "output_type": "execute_result"
    }
   ],
   "source": [
    "# Displaying the first few rows of the 'target' variable, which contains 'BMI' column data\n",
    "target.head()"
   ]
  },
  {
   "cell_type": "code",
   "execution_count": 52,
   "id": "5f8bc976",
   "metadata": {},
   "outputs": [],
   "source": [
    "# Importing the StandardScaler class from scikit-learn for feature scaling\n",
    "# Creating a StandardScaler object 'scale' to standardize the data in 'df_copy'\n",
    "# Transforming the 'df_copy' DataFrame using the scaler and storing the result in 'scaleData'\n",
    "\n",
    "from sklearn.preprocessing import StandardScaler\n",
    "scale = StandardScaler()\n",
    "scaleData = pd.DataFrame(scale.fit_transform(df_copy), columns=df_copy.columns)"
   ]
  },
  {
   "cell_type": "code",
   "execution_count": 53,
   "id": "06fc182c",
   "metadata": {},
   "outputs": [],
   "source": [
    "# Combining the one-hot encoded 'SEX' DataFrame and the scaled 'scaleData' DataFrame horizontally along columns and storing the result in 'newData'\n",
    "newData = pd.concat([SEX, scaleData], axis=1)"
   ]
  },
  {
   "cell_type": "code",
   "execution_count": 54,
   "id": "69efc53f",
   "metadata": {
    "scrolled": true
   },
   "outputs": [
    {
     "data": {
      "text/html": [
       "<div>\n",
       "<style scoped>\n",
       "    .dataframe tbody tr th:only-of-type {\n",
       "        vertical-align: middle;\n",
       "    }\n",
       "\n",
       "    .dataframe tbody tr th {\n",
       "        vertical-align: top;\n",
       "    }\n",
       "\n",
       "    .dataframe thead th {\n",
       "        text-align: right;\n",
       "    }\n",
       "</style>\n",
       "<table border=\"1\" class=\"dataframe\">\n",
       "  <thead>\n",
       "    <tr style=\"text-align: right;\">\n",
       "      <th></th>\n",
       "      <th>sex_Female</th>\n",
       "      <th>sex_Male</th>\n",
       "      <th>Age</th>\n",
       "      <th>Height</th>\n",
       "      <th>Weight</th>\n",
       "    </tr>\n",
       "  </thead>\n",
       "  <tbody>\n",
       "    <tr>\n",
       "      <th>0</th>\n",
       "      <td>1.0</td>\n",
       "      <td>0.0</td>\n",
       "      <td>-1.059198</td>\n",
       "      <td>-1.161976</td>\n",
       "      <td>-1.207627</td>\n",
       "    </tr>\n",
       "    <tr>\n",
       "      <th>1</th>\n",
       "      <td>1.0</td>\n",
       "      <td>0.0</td>\n",
       "      <td>1.638004</td>\n",
       "      <td>1.852414</td>\n",
       "      <td>0.806798</td>\n",
       "    </tr>\n",
       "    <tr>\n",
       "      <th>2</th>\n",
       "      <td>1.0</td>\n",
       "      <td>0.0</td>\n",
       "      <td>0.096746</td>\n",
       "      <td>0.739369</td>\n",
       "      <td>2.224891</td>\n",
       "    </tr>\n",
       "    <tr>\n",
       "      <th>3</th>\n",
       "      <td>0.0</td>\n",
       "      <td>1.0</td>\n",
       "      <td>-0.481226</td>\n",
       "      <td>0.117685</td>\n",
       "      <td>1.308210</td>\n",
       "    </tr>\n",
       "    <tr>\n",
       "      <th>4</th>\n",
       "      <td>1.0</td>\n",
       "      <td>0.0</td>\n",
       "      <td>-1.637170</td>\n",
       "      <td>-0.107815</td>\n",
       "      <td>1.476404</td>\n",
       "    </tr>\n",
       "    <tr>\n",
       "      <th>...</th>\n",
       "      <td>...</td>\n",
       "      <td>...</td>\n",
       "      <td>...</td>\n",
       "      <td>...</td>\n",
       "      <td>...</td>\n",
       "    </tr>\n",
       "    <tr>\n",
       "      <th>24945</th>\n",
       "      <td>0.0</td>\n",
       "      <td>1.0</td>\n",
       "      <td>1.638004</td>\n",
       "      <td>0.793752</td>\n",
       "      <td>-0.775613</td>\n",
       "    </tr>\n",
       "    <tr>\n",
       "      <th>24946</th>\n",
       "      <td>0.0</td>\n",
       "      <td>1.0</td>\n",
       "      <td>-0.095912</td>\n",
       "      <td>-1.811485</td>\n",
       "      <td>-0.590245</td>\n",
       "    </tr>\n",
       "    <tr>\n",
       "      <th>24947</th>\n",
       "      <td>1.0</td>\n",
       "      <td>0.0</td>\n",
       "      <td>-0.673884</td>\n",
       "      <td>-1.732448</td>\n",
       "      <td>-0.755524</td>\n",
       "    </tr>\n",
       "    <tr>\n",
       "      <th>24948</th>\n",
       "      <td>0.0</td>\n",
       "      <td>1.0</td>\n",
       "      <td>-1.251856</td>\n",
       "      <td>-0.243827</td>\n",
       "      <td>0.445056</td>\n",
       "    </tr>\n",
       "    <tr>\n",
       "      <th>24949</th>\n",
       "      <td>1.0</td>\n",
       "      <td>0.0</td>\n",
       "      <td>1.445347</td>\n",
       "      <td>0.465308</td>\n",
       "      <td>-0.188900</td>\n",
       "    </tr>\n",
       "  </tbody>\n",
       "</table>\n",
       "<p>24950 rows × 5 columns</p>\n",
       "</div>"
      ],
      "text/plain": [
       "       sex_Female  sex_Male       Age    Height    Weight\n",
       "0             1.0       0.0 -1.059198 -1.161976 -1.207627\n",
       "1             1.0       0.0  1.638004  1.852414  0.806798\n",
       "2             1.0       0.0  0.096746  0.739369  2.224891\n",
       "3             0.0       1.0 -0.481226  0.117685  1.308210\n",
       "4             1.0       0.0 -1.637170 -0.107815  1.476404\n",
       "...           ...       ...       ...       ...       ...\n",
       "24945         0.0       1.0  1.638004  0.793752 -0.775613\n",
       "24946         0.0       1.0 -0.095912 -1.811485 -0.590245\n",
       "24947         1.0       0.0 -0.673884 -1.732448 -0.755524\n",
       "24948         0.0       1.0 -1.251856 -0.243827  0.445056\n",
       "24949         1.0       0.0  1.445347  0.465308 -0.188900\n",
       "\n",
       "[24950 rows x 5 columns]"
      ]
     },
     "execution_count": 54,
     "metadata": {},
     "output_type": "execute_result"
    }
   ],
   "source": [
    "newData"
   ]
  },
  {
   "cell_type": "code",
   "execution_count": 55,
   "id": "52da9158",
   "metadata": {},
   "outputs": [
    {
     "data": {
      "text/plain": [
       "sex_Female    0\n",
       "sex_Male      0\n",
       "Age           0\n",
       "Height        0\n",
       "Weight        0\n",
       "dtype: int64"
      ]
     },
     "execution_count": 55,
     "metadata": {},
     "output_type": "execute_result"
    }
   ],
   "source": [
    "newData.isnull().sum()"
   ]
  },
  {
   "cell_type": "code",
   "execution_count": 56,
   "id": "66341f0b",
   "metadata": {},
   "outputs": [],
   "source": [
    "newData.rename(columns={\n",
    "    'sex_Female': 'Female',\n",
    "    'sex_Male': 'Male'}, inplace=True)"
   ]
  },
  {
   "cell_type": "code",
   "execution_count": 57,
   "id": "c34b0b0f",
   "metadata": {},
   "outputs": [
    {
     "data": {
      "text/html": [
       "<div>\n",
       "<style scoped>\n",
       "    .dataframe tbody tr th:only-of-type {\n",
       "        vertical-align: middle;\n",
       "    }\n",
       "\n",
       "    .dataframe tbody tr th {\n",
       "        vertical-align: top;\n",
       "    }\n",
       "\n",
       "    .dataframe thead th {\n",
       "        text-align: right;\n",
       "    }\n",
       "</style>\n",
       "<table border=\"1\" class=\"dataframe\">\n",
       "  <thead>\n",
       "    <tr style=\"text-align: right;\">\n",
       "      <th></th>\n",
       "      <th>Female</th>\n",
       "      <th>Male</th>\n",
       "      <th>Age</th>\n",
       "      <th>Height</th>\n",
       "      <th>Weight</th>\n",
       "    </tr>\n",
       "  </thead>\n",
       "  <tbody>\n",
       "    <tr>\n",
       "      <th>0</th>\n",
       "      <td>1.0</td>\n",
       "      <td>0.0</td>\n",
       "      <td>-1.059198</td>\n",
       "      <td>-1.161976</td>\n",
       "      <td>-1.207627</td>\n",
       "    </tr>\n",
       "    <tr>\n",
       "      <th>1</th>\n",
       "      <td>1.0</td>\n",
       "      <td>0.0</td>\n",
       "      <td>1.638004</td>\n",
       "      <td>1.852414</td>\n",
       "      <td>0.806798</td>\n",
       "    </tr>\n",
       "    <tr>\n",
       "      <th>2</th>\n",
       "      <td>1.0</td>\n",
       "      <td>0.0</td>\n",
       "      <td>0.096746</td>\n",
       "      <td>0.739369</td>\n",
       "      <td>2.224891</td>\n",
       "    </tr>\n",
       "    <tr>\n",
       "      <th>3</th>\n",
       "      <td>0.0</td>\n",
       "      <td>1.0</td>\n",
       "      <td>-0.481226</td>\n",
       "      <td>0.117685</td>\n",
       "      <td>1.308210</td>\n",
       "    </tr>\n",
       "    <tr>\n",
       "      <th>4</th>\n",
       "      <td>1.0</td>\n",
       "      <td>0.0</td>\n",
       "      <td>-1.637170</td>\n",
       "      <td>-0.107815</td>\n",
       "      <td>1.476404</td>\n",
       "    </tr>\n",
       "    <tr>\n",
       "      <th>...</th>\n",
       "      <td>...</td>\n",
       "      <td>...</td>\n",
       "      <td>...</td>\n",
       "      <td>...</td>\n",
       "      <td>...</td>\n",
       "    </tr>\n",
       "    <tr>\n",
       "      <th>24945</th>\n",
       "      <td>0.0</td>\n",
       "      <td>1.0</td>\n",
       "      <td>1.638004</td>\n",
       "      <td>0.793752</td>\n",
       "      <td>-0.775613</td>\n",
       "    </tr>\n",
       "    <tr>\n",
       "      <th>24946</th>\n",
       "      <td>0.0</td>\n",
       "      <td>1.0</td>\n",
       "      <td>-0.095912</td>\n",
       "      <td>-1.811485</td>\n",
       "      <td>-0.590245</td>\n",
       "    </tr>\n",
       "    <tr>\n",
       "      <th>24947</th>\n",
       "      <td>1.0</td>\n",
       "      <td>0.0</td>\n",
       "      <td>-0.673884</td>\n",
       "      <td>-1.732448</td>\n",
       "      <td>-0.755524</td>\n",
       "    </tr>\n",
       "    <tr>\n",
       "      <th>24948</th>\n",
       "      <td>0.0</td>\n",
       "      <td>1.0</td>\n",
       "      <td>-1.251856</td>\n",
       "      <td>-0.243827</td>\n",
       "      <td>0.445056</td>\n",
       "    </tr>\n",
       "    <tr>\n",
       "      <th>24949</th>\n",
       "      <td>1.0</td>\n",
       "      <td>0.0</td>\n",
       "      <td>1.445347</td>\n",
       "      <td>0.465308</td>\n",
       "      <td>-0.188900</td>\n",
       "    </tr>\n",
       "  </tbody>\n",
       "</table>\n",
       "<p>24950 rows × 5 columns</p>\n",
       "</div>"
      ],
      "text/plain": [
       "       Female  Male       Age    Height    Weight\n",
       "0         1.0   0.0 -1.059198 -1.161976 -1.207627\n",
       "1         1.0   0.0  1.638004  1.852414  0.806798\n",
       "2         1.0   0.0  0.096746  0.739369  2.224891\n",
       "3         0.0   1.0 -0.481226  0.117685  1.308210\n",
       "4         1.0   0.0 -1.637170 -0.107815  1.476404\n",
       "...       ...   ...       ...       ...       ...\n",
       "24945     0.0   1.0  1.638004  0.793752 -0.775613\n",
       "24946     0.0   1.0 -0.095912 -1.811485 -0.590245\n",
       "24947     1.0   0.0 -0.673884 -1.732448 -0.755524\n",
       "24948     0.0   1.0 -1.251856 -0.243827  0.445056\n",
       "24949     1.0   0.0  1.445347  0.465308 -0.188900\n",
       "\n",
       "[24950 rows x 5 columns]"
      ]
     },
     "execution_count": 57,
     "metadata": {},
     "output_type": "execute_result"
    }
   ],
   "source": [
    "newData"
   ]
  },
  {
   "cell_type": "code",
   "execution_count": 58,
   "id": "477d8eaa",
   "metadata": {},
   "outputs": [],
   "source": [
    "#train test split\n",
    "from sklearn.model_selection import train_test_split\n",
    "xtrain, xtest, ytrain, ytest = train_test_split(newData, target, test_size=0.4, random_state=42)"
   ]
  },
  {
   "cell_type": "code",
   "execution_count": 59,
   "id": "adf0837b",
   "metadata": {},
   "outputs": [
    {
     "data": {
      "text/html": [
       "<div>\n",
       "<style scoped>\n",
       "    .dataframe tbody tr th:only-of-type {\n",
       "        vertical-align: middle;\n",
       "    }\n",
       "\n",
       "    .dataframe tbody tr th {\n",
       "        vertical-align: top;\n",
       "    }\n",
       "\n",
       "    .dataframe thead th {\n",
       "        text-align: right;\n",
       "    }\n",
       "</style>\n",
       "<table border=\"1\" class=\"dataframe\">\n",
       "  <thead>\n",
       "    <tr style=\"text-align: right;\">\n",
       "      <th></th>\n",
       "      <th>Female</th>\n",
       "      <th>Male</th>\n",
       "      <th>Age</th>\n",
       "      <th>Height</th>\n",
       "      <th>Weight</th>\n",
       "    </tr>\n",
       "  </thead>\n",
       "  <tbody>\n",
       "    <tr>\n",
       "      <th>23050</th>\n",
       "      <td>0.0</td>\n",
       "      <td>1.0</td>\n",
       "      <td>-0.673884</td>\n",
       "      <td>-0.434697</td>\n",
       "      <td>-1.630227</td>\n",
       "    </tr>\n",
       "    <tr>\n",
       "      <th>5248</th>\n",
       "      <td>0.0</td>\n",
       "      <td>1.0</td>\n",
       "      <td>-1.059198</td>\n",
       "      <td>-0.003813</td>\n",
       "      <td>1.212679</td>\n",
       "    </tr>\n",
       "    <tr>\n",
       "      <th>10061</th>\n",
       "      <td>0.0</td>\n",
       "      <td>1.0</td>\n",
       "      <td>0.096746</td>\n",
       "      <td>-1.356926</td>\n",
       "      <td>-1.728021</td>\n",
       "    </tr>\n",
       "    <tr>\n",
       "      <th>12767</th>\n",
       "      <td>1.0</td>\n",
       "      <td>0.0</td>\n",
       "      <td>-0.095912</td>\n",
       "      <td>1.468441</td>\n",
       "      <td>0.481169</td>\n",
       "    </tr>\n",
       "    <tr>\n",
       "      <th>435</th>\n",
       "      <td>1.0</td>\n",
       "      <td>0.0</td>\n",
       "      <td>1.252690</td>\n",
       "      <td>0.026110</td>\n",
       "      <td>-0.478467</td>\n",
       "    </tr>\n",
       "    <tr>\n",
       "      <th>...</th>\n",
       "      <td>...</td>\n",
       "      <td>...</td>\n",
       "      <td>...</td>\n",
       "      <td>...</td>\n",
       "      <td>...</td>\n",
       "    </tr>\n",
       "    <tr>\n",
       "      <th>21575</th>\n",
       "      <td>0.0</td>\n",
       "      <td>1.0</td>\n",
       "      <td>-1.444513</td>\n",
       "      <td>-0.813611</td>\n",
       "      <td>0.095394</td>\n",
       "    </tr>\n",
       "    <tr>\n",
       "      <th>5390</th>\n",
       "      <td>1.0</td>\n",
       "      <td>0.0</td>\n",
       "      <td>1.638004</td>\n",
       "      <td>1.804679</td>\n",
       "      <td>0.402881</td>\n",
       "    </tr>\n",
       "    <tr>\n",
       "      <th>860</th>\n",
       "      <td>0.0</td>\n",
       "      <td>1.0</td>\n",
       "      <td>-1.251856</td>\n",
       "      <td>-0.197249</td>\n",
       "      <td>-0.819812</td>\n",
       "    </tr>\n",
       "    <tr>\n",
       "      <th>15795</th>\n",
       "      <td>1.0</td>\n",
       "      <td>0.0</td>\n",
       "      <td>0.096746</td>\n",
       "      <td>0.450941</td>\n",
       "      <td>-0.561059</td>\n",
       "    </tr>\n",
       "    <tr>\n",
       "      <th>23654</th>\n",
       "      <td>1.0</td>\n",
       "      <td>0.0</td>\n",
       "      <td>0.096746</td>\n",
       "      <td>0.071516</td>\n",
       "      <td>-1.343018</td>\n",
       "    </tr>\n",
       "  </tbody>\n",
       "</table>\n",
       "<p>14970 rows × 5 columns</p>\n",
       "</div>"
      ],
      "text/plain": [
       "       Female  Male       Age    Height    Weight\n",
       "23050     0.0   1.0 -0.673884 -0.434697 -1.630227\n",
       "5248      0.0   1.0 -1.059198 -0.003813  1.212679\n",
       "10061     0.0   1.0  0.096746 -1.356926 -1.728021\n",
       "12767     1.0   0.0 -0.095912  1.468441  0.481169\n",
       "435       1.0   0.0  1.252690  0.026110 -0.478467\n",
       "...       ...   ...       ...       ...       ...\n",
       "21575     0.0   1.0 -1.444513 -0.813611  0.095394\n",
       "5390      1.0   0.0  1.638004  1.804679  0.402881\n",
       "860       0.0   1.0 -1.251856 -0.197249 -0.819812\n",
       "15795     1.0   0.0  0.096746  0.450941 -0.561059\n",
       "23654     1.0   0.0  0.096746  0.071516 -1.343018\n",
       "\n",
       "[14970 rows x 5 columns]"
      ]
     },
     "execution_count": 59,
     "metadata": {},
     "output_type": "execute_result"
    }
   ],
   "source": [
    "xtrain"
   ]
  },
  {
   "cell_type": "code",
   "execution_count": 60,
   "id": "2037cfdb",
   "metadata": {},
   "outputs": [],
   "source": [
    "xtrain.reset_index(drop=True,inplace=True)"
   ]
  },
  {
   "cell_type": "code",
   "execution_count": 61,
   "id": "492029f5",
   "metadata": {},
   "outputs": [
    {
     "data": {
      "text/html": [
       "<div>\n",
       "<style scoped>\n",
       "    .dataframe tbody tr th:only-of-type {\n",
       "        vertical-align: middle;\n",
       "    }\n",
       "\n",
       "    .dataframe tbody tr th {\n",
       "        vertical-align: top;\n",
       "    }\n",
       "\n",
       "    .dataframe thead th {\n",
       "        text-align: right;\n",
       "    }\n",
       "</style>\n",
       "<table border=\"1\" class=\"dataframe\">\n",
       "  <thead>\n",
       "    <tr style=\"text-align: right;\">\n",
       "      <th></th>\n",
       "      <th>Female</th>\n",
       "      <th>Male</th>\n",
       "      <th>Age</th>\n",
       "      <th>Height</th>\n",
       "      <th>Weight</th>\n",
       "    </tr>\n",
       "  </thead>\n",
       "  <tbody>\n",
       "    <tr>\n",
       "      <th>0</th>\n",
       "      <td>0.0</td>\n",
       "      <td>1.0</td>\n",
       "      <td>-0.673884</td>\n",
       "      <td>-0.434697</td>\n",
       "      <td>-1.630227</td>\n",
       "    </tr>\n",
       "    <tr>\n",
       "      <th>1</th>\n",
       "      <td>0.0</td>\n",
       "      <td>1.0</td>\n",
       "      <td>-1.059198</td>\n",
       "      <td>-0.003813</td>\n",
       "      <td>1.212679</td>\n",
       "    </tr>\n",
       "    <tr>\n",
       "      <th>2</th>\n",
       "      <td>0.0</td>\n",
       "      <td>1.0</td>\n",
       "      <td>0.096746</td>\n",
       "      <td>-1.356926</td>\n",
       "      <td>-1.728021</td>\n",
       "    </tr>\n",
       "    <tr>\n",
       "      <th>3</th>\n",
       "      <td>1.0</td>\n",
       "      <td>0.0</td>\n",
       "      <td>-0.095912</td>\n",
       "      <td>1.468441</td>\n",
       "      <td>0.481169</td>\n",
       "    </tr>\n",
       "    <tr>\n",
       "      <th>4</th>\n",
       "      <td>1.0</td>\n",
       "      <td>0.0</td>\n",
       "      <td>1.252690</td>\n",
       "      <td>0.026110</td>\n",
       "      <td>-0.478467</td>\n",
       "    </tr>\n",
       "    <tr>\n",
       "      <th>...</th>\n",
       "      <td>...</td>\n",
       "      <td>...</td>\n",
       "      <td>...</td>\n",
       "      <td>...</td>\n",
       "      <td>...</td>\n",
       "    </tr>\n",
       "    <tr>\n",
       "      <th>14965</th>\n",
       "      <td>0.0</td>\n",
       "      <td>1.0</td>\n",
       "      <td>-1.444513</td>\n",
       "      <td>-0.813611</td>\n",
       "      <td>0.095394</td>\n",
       "    </tr>\n",
       "    <tr>\n",
       "      <th>14966</th>\n",
       "      <td>1.0</td>\n",
       "      <td>0.0</td>\n",
       "      <td>1.638004</td>\n",
       "      <td>1.804679</td>\n",
       "      <td>0.402881</td>\n",
       "    </tr>\n",
       "    <tr>\n",
       "      <th>14967</th>\n",
       "      <td>0.0</td>\n",
       "      <td>1.0</td>\n",
       "      <td>-1.251856</td>\n",
       "      <td>-0.197249</td>\n",
       "      <td>-0.819812</td>\n",
       "    </tr>\n",
       "    <tr>\n",
       "      <th>14968</th>\n",
       "      <td>1.0</td>\n",
       "      <td>0.0</td>\n",
       "      <td>0.096746</td>\n",
       "      <td>0.450941</td>\n",
       "      <td>-0.561059</td>\n",
       "    </tr>\n",
       "    <tr>\n",
       "      <th>14969</th>\n",
       "      <td>1.0</td>\n",
       "      <td>0.0</td>\n",
       "      <td>0.096746</td>\n",
       "      <td>0.071516</td>\n",
       "      <td>-1.343018</td>\n",
       "    </tr>\n",
       "  </tbody>\n",
       "</table>\n",
       "<p>14970 rows × 5 columns</p>\n",
       "</div>"
      ],
      "text/plain": [
       "       Female  Male       Age    Height    Weight\n",
       "0         0.0   1.0 -0.673884 -0.434697 -1.630227\n",
       "1         0.0   1.0 -1.059198 -0.003813  1.212679\n",
       "2         0.0   1.0  0.096746 -1.356926 -1.728021\n",
       "3         1.0   0.0 -0.095912  1.468441  0.481169\n",
       "4         1.0   0.0  1.252690  0.026110 -0.478467\n",
       "...       ...   ...       ...       ...       ...\n",
       "14965     0.0   1.0 -1.444513 -0.813611  0.095394\n",
       "14966     1.0   0.0  1.638004  1.804679  0.402881\n",
       "14967     0.0   1.0 -1.251856 -0.197249 -0.819812\n",
       "14968     1.0   0.0  0.096746  0.450941 -0.561059\n",
       "14969     1.0   0.0  0.096746  0.071516 -1.343018\n",
       "\n",
       "[14970 rows x 5 columns]"
      ]
     },
     "execution_count": 61,
     "metadata": {},
     "output_type": "execute_result"
    }
   ],
   "source": [
    "xtrain"
   ]
  },
  {
   "cell_type": "code",
   "execution_count": 62,
   "id": "6f310e39",
   "metadata": {},
   "outputs": [],
   "source": [
    "xtest.reset_index(drop=True,inplace=True)"
   ]
  },
  {
   "cell_type": "code",
   "execution_count": 63,
   "id": "297a4a5d",
   "metadata": {},
   "outputs": [
    {
     "data": {
      "text/html": [
       "<div>\n",
       "<style scoped>\n",
       "    .dataframe tbody tr th:only-of-type {\n",
       "        vertical-align: middle;\n",
       "    }\n",
       "\n",
       "    .dataframe tbody tr th {\n",
       "        vertical-align: top;\n",
       "    }\n",
       "\n",
       "    .dataframe thead th {\n",
       "        text-align: right;\n",
       "    }\n",
       "</style>\n",
       "<table border=\"1\" class=\"dataframe\">\n",
       "  <thead>\n",
       "    <tr style=\"text-align: right;\">\n",
       "      <th></th>\n",
       "      <th>Female</th>\n",
       "      <th>Male</th>\n",
       "      <th>Age</th>\n",
       "      <th>Height</th>\n",
       "      <th>Weight</th>\n",
       "    </tr>\n",
       "  </thead>\n",
       "  <tbody>\n",
       "    <tr>\n",
       "      <th>0</th>\n",
       "      <td>1.0</td>\n",
       "      <td>0.0</td>\n",
       "      <td>-0.673884</td>\n",
       "      <td>-0.086453</td>\n",
       "      <td>0.702805</td>\n",
       "    </tr>\n",
       "    <tr>\n",
       "      <th>1</th>\n",
       "      <td>1.0</td>\n",
       "      <td>0.0</td>\n",
       "      <td>0.867375</td>\n",
       "      <td>0.046394</td>\n",
       "      <td>0.639247</td>\n",
       "    </tr>\n",
       "    <tr>\n",
       "      <th>2</th>\n",
       "      <td>0.0</td>\n",
       "      <td>1.0</td>\n",
       "      <td>0.289403</td>\n",
       "      <td>-1.059031</td>\n",
       "      <td>0.357611</td>\n",
       "    </tr>\n",
       "    <tr>\n",
       "      <th>3</th>\n",
       "      <td>1.0</td>\n",
       "      <td>0.0</td>\n",
       "      <td>-1.444513</td>\n",
       "      <td>0.731365</td>\n",
       "      <td>-0.429518</td>\n",
       "    </tr>\n",
       "    <tr>\n",
       "      <th>4</th>\n",
       "      <td>1.0</td>\n",
       "      <td>0.0</td>\n",
       "      <td>0.289403</td>\n",
       "      <td>1.127933</td>\n",
       "      <td>1.983243</td>\n",
       "    </tr>\n",
       "    <tr>\n",
       "      <th>...</th>\n",
       "      <td>...</td>\n",
       "      <td>...</td>\n",
       "      <td>...</td>\n",
       "      <td>...</td>\n",
       "      <td>...</td>\n",
       "    </tr>\n",
       "    <tr>\n",
       "      <th>9975</th>\n",
       "      <td>1.0</td>\n",
       "      <td>0.0</td>\n",
       "      <td>-0.866541</td>\n",
       "      <td>-1.166787</td>\n",
       "      <td>0.739347</td>\n",
       "    </tr>\n",
       "    <tr>\n",
       "      <th>9976</th>\n",
       "      <td>0.0</td>\n",
       "      <td>1.0</td>\n",
       "      <td>-0.481226</td>\n",
       "      <td>-1.322069</td>\n",
       "      <td>-0.625690</td>\n",
       "    </tr>\n",
       "    <tr>\n",
       "      <th>9977</th>\n",
       "      <td>1.0</td>\n",
       "      <td>0.0</td>\n",
       "      <td>-0.673884</td>\n",
       "      <td>-0.407739</td>\n",
       "      <td>-1.317425</td>\n",
       "    </tr>\n",
       "    <tr>\n",
       "      <th>9978</th>\n",
       "      <td>1.0</td>\n",
       "      <td>0.0</td>\n",
       "      <td>0.096746</td>\n",
       "      <td>1.042512</td>\n",
       "      <td>0.727652</td>\n",
       "    </tr>\n",
       "    <tr>\n",
       "      <th>9979</th>\n",
       "      <td>0.0</td>\n",
       "      <td>1.0</td>\n",
       "      <td>-0.673884</td>\n",
       "      <td>0.303968</td>\n",
       "      <td>0.115337</td>\n",
       "    </tr>\n",
       "  </tbody>\n",
       "</table>\n",
       "<p>9980 rows × 5 columns</p>\n",
       "</div>"
      ],
      "text/plain": [
       "      Female  Male       Age    Height    Weight\n",
       "0        1.0   0.0 -0.673884 -0.086453  0.702805\n",
       "1        1.0   0.0  0.867375  0.046394  0.639247\n",
       "2        0.0   1.0  0.289403 -1.059031  0.357611\n",
       "3        1.0   0.0 -1.444513  0.731365 -0.429518\n",
       "4        1.0   0.0  0.289403  1.127933  1.983243\n",
       "...      ...   ...       ...       ...       ...\n",
       "9975     1.0   0.0 -0.866541 -1.166787  0.739347\n",
       "9976     0.0   1.0 -0.481226 -1.322069 -0.625690\n",
       "9977     1.0   0.0 -0.673884 -0.407739 -1.317425\n",
       "9978     1.0   0.0  0.096746  1.042512  0.727652\n",
       "9979     0.0   1.0 -0.673884  0.303968  0.115337\n",
       "\n",
       "[9980 rows x 5 columns]"
      ]
     },
     "execution_count": 63,
     "metadata": {},
     "output_type": "execute_result"
    }
   ],
   "source": [
    "xtest"
   ]
  },
  {
   "cell_type": "code",
   "execution_count": 64,
   "id": "228fc7dc",
   "metadata": {},
   "outputs": [],
   "source": [
    "ytrain.reset_index(drop=True,inplace=True)"
   ]
  },
  {
   "cell_type": "code",
   "execution_count": 65,
   "id": "b9fd4e62",
   "metadata": {},
   "outputs": [
    {
     "data": {
      "text/plain": [
       "0        16.841322\n",
       "1        21.481531\n",
       "2        17.568998\n",
       "3        18.618796\n",
       "4        18.450319\n",
       "           ...    \n",
       "14965    20.413563\n",
       "14966    18.161112\n",
       "14967    18.070630\n",
       "14968    17.877031\n",
       "14969    16.876199\n",
       "Name: BMI, Length: 14970, dtype: float64"
      ]
     },
     "execution_count": 65,
     "metadata": {},
     "output_type": "execute_result"
    }
   ],
   "source": [
    "ytrain"
   ]
  },
  {
   "cell_type": "code",
   "execution_count": 66,
   "id": "e851ac03",
   "metadata": {},
   "outputs": [],
   "source": [
    "ytest.reset_index(drop=True,inplace=True)"
   ]
  },
  {
   "cell_type": "code",
   "execution_count": 67,
   "id": "1c97e56f",
   "metadata": {},
   "outputs": [
    {
     "data": {
      "text/plain": [
       "0       20.672401\n",
       "1       20.406833\n",
       "2       21.197286\n",
       "3       17.827370\n",
       "4       21.467997\n",
       "          ...    \n",
       "9975    22.053116\n",
       "9976    19.641732\n",
       "9977    17.383353\n",
       "9978    19.465068\n",
       "9979    19.202669\n",
       "Name: BMI, Length: 9980, dtype: float64"
      ]
     },
     "execution_count": 67,
     "metadata": {},
     "output_type": "execute_result"
    }
   ],
   "source": [
    "ytest"
   ]
  },
  {
   "cell_type": "code",
   "execution_count": 68,
   "id": "4bcc53d2",
   "metadata": {},
   "outputs": [],
   "source": [
    "#pip install xgboost"
   ]
  },
  {
   "cell_type": "code",
   "execution_count": 69,
   "id": "ab994317",
   "metadata": {},
   "outputs": [
    {
     "data": {
      "text/html": [
       "<style>#sk-container-id-2 {color: black;background-color: white;}#sk-container-id-2 pre{padding: 0;}#sk-container-id-2 div.sk-toggleable {background-color: white;}#sk-container-id-2 label.sk-toggleable__label {cursor: pointer;display: block;width: 100%;margin-bottom: 0;padding: 0.3em;box-sizing: border-box;text-align: center;}#sk-container-id-2 label.sk-toggleable__label-arrow:before {content: \"▸\";float: left;margin-right: 0.25em;color: #696969;}#sk-container-id-2 label.sk-toggleable__label-arrow:hover:before {color: black;}#sk-container-id-2 div.sk-estimator:hover label.sk-toggleable__label-arrow:before {color: black;}#sk-container-id-2 div.sk-toggleable__content {max-height: 0;max-width: 0;overflow: hidden;text-align: left;background-color: #f0f8ff;}#sk-container-id-2 div.sk-toggleable__content pre {margin: 0.2em;color: black;border-radius: 0.25em;background-color: #f0f8ff;}#sk-container-id-2 input.sk-toggleable__control:checked~div.sk-toggleable__content {max-height: 200px;max-width: 100%;overflow: auto;}#sk-container-id-2 input.sk-toggleable__control:checked~label.sk-toggleable__label-arrow:before {content: \"▾\";}#sk-container-id-2 div.sk-estimator input.sk-toggleable__control:checked~label.sk-toggleable__label {background-color: #d4ebff;}#sk-container-id-2 div.sk-label input.sk-toggleable__control:checked~label.sk-toggleable__label {background-color: #d4ebff;}#sk-container-id-2 input.sk-hidden--visually {border: 0;clip: rect(1px 1px 1px 1px);clip: rect(1px, 1px, 1px, 1px);height: 1px;margin: -1px;overflow: hidden;padding: 0;position: absolute;width: 1px;}#sk-container-id-2 div.sk-estimator {font-family: monospace;background-color: #f0f8ff;border: 1px dotted black;border-radius: 0.25em;box-sizing: border-box;margin-bottom: 0.5em;}#sk-container-id-2 div.sk-estimator:hover {background-color: #d4ebff;}#sk-container-id-2 div.sk-parallel-item::after {content: \"\";width: 100%;border-bottom: 1px solid gray;flex-grow: 1;}#sk-container-id-2 div.sk-label:hover label.sk-toggleable__label {background-color: #d4ebff;}#sk-container-id-2 div.sk-serial::before {content: \"\";position: absolute;border-left: 1px solid gray;box-sizing: border-box;top: 0;bottom: 0;left: 50%;z-index: 0;}#sk-container-id-2 div.sk-serial {display: flex;flex-direction: column;align-items: center;background-color: white;padding-right: 0.2em;padding-left: 0.2em;position: relative;}#sk-container-id-2 div.sk-item {position: relative;z-index: 1;}#sk-container-id-2 div.sk-parallel {display: flex;align-items: stretch;justify-content: center;background-color: white;position: relative;}#sk-container-id-2 div.sk-item::before, #sk-container-id-2 div.sk-parallel-item::before {content: \"\";position: absolute;border-left: 1px solid gray;box-sizing: border-box;top: 0;bottom: 0;left: 50%;z-index: -1;}#sk-container-id-2 div.sk-parallel-item {display: flex;flex-direction: column;z-index: 1;position: relative;background-color: white;}#sk-container-id-2 div.sk-parallel-item:first-child::after {align-self: flex-end;width: 50%;}#sk-container-id-2 div.sk-parallel-item:last-child::after {align-self: flex-start;width: 50%;}#sk-container-id-2 div.sk-parallel-item:only-child::after {width: 0;}#sk-container-id-2 div.sk-dashed-wrapped {border: 1px dashed gray;margin: 0 0.4em 0.5em 0.4em;box-sizing: border-box;padding-bottom: 0.4em;background-color: white;}#sk-container-id-2 div.sk-label label {font-family: monospace;font-weight: bold;display: inline-block;line-height: 1.2em;}#sk-container-id-2 div.sk-label-container {text-align: center;}#sk-container-id-2 div.sk-container {/* jupyter's `normalize.less` sets `[hidden] { display: none; }` but bootstrap.min.css set `[hidden] { display: none !important; }` so we also need the `!important` here to be able to override the default hidden behavior on the sphinx rendered scikit-learn.org. See: https://github.com/scikit-learn/scikit-learn/issues/21755 */display: inline-block !important;position: relative;}#sk-container-id-2 div.sk-text-repr-fallback {display: none;}</style><div id=\"sk-container-id-2\" class=\"sk-top-container\"><div class=\"sk-text-repr-fallback\"><pre>XGBRegressor(base_score=None, booster=None, callbacks=None,\n",
       "             colsample_bylevel=None, colsample_bynode=None,\n",
       "             colsample_bytree=None, early_stopping_rounds=None,\n",
       "             enable_categorical=False, eval_metric=None, feature_types=None,\n",
       "             gamma=None, gpu_id=None, grow_policy=None, importance_type=None,\n",
       "             interaction_constraints=None, learning_rate=None, max_bin=None,\n",
       "             max_cat_threshold=None, max_cat_to_onehot=None,\n",
       "             max_delta_step=None, max_depth=None, max_leaves=None,\n",
       "             min_child_weight=None, missing=nan, monotone_constraints=None,\n",
       "             n_estimators=100, n_jobs=None, num_parallel_tree=None,\n",
       "             predictor=None, random_state=None, ...)</pre><b>In a Jupyter environment, please rerun this cell to show the HTML representation or trust the notebook. <br />On GitHub, the HTML representation is unable to render, please try loading this page with nbviewer.org.</b></div><div class=\"sk-container\" hidden><div class=\"sk-item\"><div class=\"sk-estimator sk-toggleable\"><input class=\"sk-toggleable__control sk-hidden--visually\" id=\"sk-estimator-id-2\" type=\"checkbox\" checked><label for=\"sk-estimator-id-2\" class=\"sk-toggleable__label sk-toggleable__label-arrow\">XGBRegressor</label><div class=\"sk-toggleable__content\"><pre>XGBRegressor(base_score=None, booster=None, callbacks=None,\n",
       "             colsample_bylevel=None, colsample_bynode=None,\n",
       "             colsample_bytree=None, early_stopping_rounds=None,\n",
       "             enable_categorical=False, eval_metric=None, feature_types=None,\n",
       "             gamma=None, gpu_id=None, grow_policy=None, importance_type=None,\n",
       "             interaction_constraints=None, learning_rate=None, max_bin=None,\n",
       "             max_cat_threshold=None, max_cat_to_onehot=None,\n",
       "             max_delta_step=None, max_depth=None, max_leaves=None,\n",
       "             min_child_weight=None, missing=nan, monotone_constraints=None,\n",
       "             n_estimators=100, n_jobs=None, num_parallel_tree=None,\n",
       "             predictor=None, random_state=None, ...)</pre></div></div></div></div></div>"
      ],
      "text/plain": [
       "XGBRegressor(base_score=None, booster=None, callbacks=None,\n",
       "             colsample_bylevel=None, colsample_bynode=None,\n",
       "             colsample_bytree=None, early_stopping_rounds=None,\n",
       "             enable_categorical=False, eval_metric=None, feature_types=None,\n",
       "             gamma=None, gpu_id=None, grow_policy=None, importance_type=None,\n",
       "             interaction_constraints=None, learning_rate=None, max_bin=None,\n",
       "             max_cat_threshold=None, max_cat_to_onehot=None,\n",
       "             max_delta_step=None, max_depth=None, max_leaves=None,\n",
       "             min_child_weight=None, missing=nan, monotone_constraints=None,\n",
       "             n_estimators=100, n_jobs=None, num_parallel_tree=None,\n",
       "             predictor=None, random_state=None, ...)"
      ]
     },
     "execution_count": 69,
     "metadata": {},
     "output_type": "execute_result"
    }
   ],
   "source": [
    "# Importing the XGBoost library for gradient boosting regression\n",
    "# Creating an XGBoostRegressor model\n",
    "# Fitting the model to the training data (xtrain and ytrain)\n",
    "\n",
    "import xgboost as xgb\n",
    "model = xgb.XGBRegressor()\n",
    "model.fit(xtrain, ytrain)"
   ]
  },
  {
   "cell_type": "code",
   "execution_count": 70,
   "id": "bedf6cda",
   "metadata": {},
   "outputs": [
    {
     "name": "stdout",
     "output_type": "stream",
     "text": [
      "Scores:  [0.99873248 0.99895118 0.99872162 0.99865727 0.99880439]\n",
      "Mean:  0.9987733870124897\n"
     ]
    }
   ],
   "source": [
    "# Importing cross_val_score from scikit-learn for cross-validation\n",
    "# Performing cross-validation using the XGBoost model on the 'newData' features and 'target' values with 5-fold cross-validation\n",
    "# Printing the cross-validation scores and their mean value\n",
    "\n",
    "from sklearn.model_selection import cross_val_score\n",
    "xgb_cv = cross_val_score(model, newData, target, cv=5)\n",
    "print('Scores: ', xgb_cv)\n",
    "print('Mean: ', np.mean(xgb_cv))"
   ]
  },
  {
   "cell_type": "code",
   "execution_count": 71,
   "id": "45218475",
   "metadata": {},
   "outputs": [],
   "source": [
    "# Importing the r2_score function from scikit-learn for calculating the R-squared (coefficient of determination) score\n",
    "from sklearn.metrics import r2_score"
   ]
  },
  {
   "cell_type": "code",
   "execution_count": 72,
   "id": "a16c241f",
   "metadata": {},
   "outputs": [
    {
     "name": "stdout",
     "output_type": "stream",
     "text": [
      "[20.668076 20.35664  21.191124 ... 17.37981  19.50302  19.249525]\n"
     ]
    },
    {
     "data": {
      "text/plain": [
       "0.998825558006925"
      ]
     },
     "execution_count": 72,
     "metadata": {},
     "output_type": "execute_result"
    }
   ],
   "source": [
    "# Making predictions using the trained XGBoost model on the test data (xtest) and printing the predictions\n",
    "# Calculating and printing the R-squared score to evaluate the model's performance by comparing predicted and actual 'ytest' values\n",
    "\n",
    "predictions = model.predict(xtest)\n",
    "print(predictions)\n",
    "r2_score(ytest, predictions)"
   ]
  },
  {
   "cell_type": "code",
   "execution_count": 73,
   "id": "c904405d",
   "metadata": {},
   "outputs": [
    {
     "data": {
      "text/plain": [
       "array([20.668076, 20.35664 , 21.191124, ..., 17.37981 , 19.50302 ,\n",
       "       19.249525], dtype=float32)"
      ]
     },
     "execution_count": 73,
     "metadata": {},
     "output_type": "execute_result"
    }
   ],
   "source": [
    "predictions"
   ]
  },
  {
   "cell_type": "code",
   "execution_count": 74,
   "id": "e9e0f1de",
   "metadata": {},
   "outputs": [
    {
     "data": {
      "text/plain": [
       "9980"
      ]
     },
     "execution_count": 74,
     "metadata": {},
     "output_type": "execute_result"
    }
   ],
   "source": [
    "# Counting the number of predictions in the 'predictions' array and storing it in the 'count' variable\n",
    "count=len(predictions)\n",
    "count"
   ]
  },
  {
   "cell_type": "code",
   "execution_count": 75,
   "id": "6b091ff3",
   "metadata": {},
   "outputs": [
    {
     "name": "stdout",
     "output_type": "stream",
     "text": [
      "[18.31585  18.735178 22.336086 ... 19.831114 20.402443 18.50294 ]\n"
     ]
    }
   ],
   "source": [
    "# Making predictions using the trained XGBoost model on the 'newData' features and printing the predictions\n",
    "\n",
    "predictions = model.predict(newData)\n",
    "print(predictions)"
   ]
  },
  {
   "cell_type": "code",
   "execution_count": 76,
   "id": "8ebba675",
   "metadata": {},
   "outputs": [
    {
     "data": {
      "text/plain": [
       "24950"
      ]
     },
     "execution_count": 76,
     "metadata": {},
     "output_type": "execute_result"
    }
   ],
   "source": [
    "count=len(predictions)\n",
    "count"
   ]
  },
  {
   "cell_type": "code",
   "execution_count": 77,
   "id": "221dac5d",
   "metadata": {},
   "outputs": [],
   "source": [
    "# Creating an empty list named 'HealthStatus'\n",
    "\n",
    "HealthStatus=[]"
   ]
  },
  {
   "cell_type": "code",
   "execution_count": 78,
   "id": "6cdf863c",
   "metadata": {},
   "outputs": [
    {
     "data": {
      "text/plain": [
       "[]"
      ]
     },
     "execution_count": 78,
     "metadata": {},
     "output_type": "execute_result"
    }
   ],
   "source": [
    "HealthStatus"
   ]
  },
  {
   "cell_type": "code",
   "execution_count": 79,
   "id": "7f387048",
   "metadata": {},
   "outputs": [],
   "source": [
    "# Looping through the 'predictions' and categorizing them into health status based on BMI ranges\n",
    "# Appending the determined health status to the 'HealthStatus' list\n",
    "\n",
    "for i in predictions:\n",
    "    if i < 18.5:\n",
    "        HealthStatus.append('Underweight')\n",
    "    elif 18.5< i < 24.9:\n",
    "        HealthStatus.append('Normal')\n",
    "    elif 25.0 < i < 29.9:\n",
    "        HealthStatus.append('Overweight')\n",
    "    elif 30.0 < i < 34.9:\n",
    "        HealthStatus.append('Obese')\n",
    "    elif 35.0 < i :\n",
    "        HealthStatus.append('Extremely Obese')\n",
    "    else:\n",
    "        HealthStatus.append('Unknown')"
   ]
  },
  {
   "cell_type": "code",
   "execution_count": 80,
   "id": "a11e2a46",
   "metadata": {},
   "outputs": [
    {
     "data": {
      "text/plain": [
       "array(['Underweight', 'Normal', 'Normal', ..., 'Normal', 'Normal',\n",
       "       'Normal'], dtype='<U11')"
      ]
     },
     "execution_count": 80,
     "metadata": {},
     "output_type": "execute_result"
    }
   ],
   "source": [
    "# Converting the 'HealthStatus' list into a NumPy array\n",
    "np.array(HealthStatus)"
   ]
  },
  {
   "cell_type": "code",
   "execution_count": 81,
   "id": "c707d114",
   "metadata": {},
   "outputs": [
    {
     "data": {
      "text/plain": [
       "(array([7.4580e+03, 0.0000e+00, 0.0000e+00, 0.0000e+00, 0.0000e+00,\n",
       "        1.7487e+04, 0.0000e+00, 0.0000e+00, 0.0000e+00, 5.0000e+00]),\n",
       " array([0. , 0.2, 0.4, 0.6, 0.8, 1. , 1.2, 1.4, 1.6, 1.8, 2. ]),\n",
       " <BarContainer object of 10 artists>)"
      ]
     },
     "execution_count": 81,
     "metadata": {},
     "output_type": "execute_result"
    },
    {
     "data": {
      "image/png": "[encoded data removed]",
      "text/plain": [
       "<Figure size 432x288 with 1 Axes>"
      ]
     },
     "metadata": {
      "needs_background": "light"
     },
     "output_type": "display_data"
    }
   ],
   "source": [
    "# Creating a histogram to visualize the distribution of health statuses in the 'HealthStatus' list\n",
    "plt.hist(HealthStatus)"
   ]
  },
  {
   "cell_type": "code",
   "execution_count": 82,
   "id": "b8df962c",
   "metadata": {},
   "outputs": [
    {
     "data": {
      "text/html": [
       "<div>\n",
       "<style scoped>\n",
       "    .dataframe tbody tr th:only-of-type {\n",
       "        vertical-align: middle;\n",
       "    }\n",
       "\n",
       "    .dataframe tbody tr th {\n",
       "        vertical-align: top;\n",
       "    }\n",
       "\n",
       "    .dataframe thead th {\n",
       "        text-align: right;\n",
       "    }\n",
       "</style>\n",
       "<table border=\"1\" class=\"dataframe\">\n",
       "  <thead>\n",
       "    <tr style=\"text-align: right;\">\n",
       "      <th></th>\n",
       "      <th>Female</th>\n",
       "      <th>Male</th>\n",
       "      <th>Age</th>\n",
       "      <th>Height</th>\n",
       "      <th>Weight</th>\n",
       "    </tr>\n",
       "  </thead>\n",
       "  <tbody>\n",
       "    <tr>\n",
       "      <th>0</th>\n",
       "      <td>1.0</td>\n",
       "      <td>0.0</td>\n",
       "      <td>-1.059198</td>\n",
       "      <td>-1.161976</td>\n",
       "      <td>-1.207627</td>\n",
       "    </tr>\n",
       "    <tr>\n",
       "      <th>1</th>\n",
       "      <td>1.0</td>\n",
       "      <td>0.0</td>\n",
       "      <td>1.638004</td>\n",
       "      <td>1.852414</td>\n",
       "      <td>0.806798</td>\n",
       "    </tr>\n",
       "    <tr>\n",
       "      <th>2</th>\n",
       "      <td>1.0</td>\n",
       "      <td>0.0</td>\n",
       "      <td>0.096746</td>\n",
       "      <td>0.739369</td>\n",
       "      <td>2.224891</td>\n",
       "    </tr>\n",
       "    <tr>\n",
       "      <th>3</th>\n",
       "      <td>0.0</td>\n",
       "      <td>1.0</td>\n",
       "      <td>-0.481226</td>\n",
       "      <td>0.117685</td>\n",
       "      <td>1.308210</td>\n",
       "    </tr>\n",
       "    <tr>\n",
       "      <th>4</th>\n",
       "      <td>1.0</td>\n",
       "      <td>0.0</td>\n",
       "      <td>-1.637170</td>\n",
       "      <td>-0.107815</td>\n",
       "      <td>1.476404</td>\n",
       "    </tr>\n",
       "    <tr>\n",
       "      <th>...</th>\n",
       "      <td>...</td>\n",
       "      <td>...</td>\n",
       "      <td>...</td>\n",
       "      <td>...</td>\n",
       "      <td>...</td>\n",
       "    </tr>\n",
       "    <tr>\n",
       "      <th>24945</th>\n",
       "      <td>0.0</td>\n",
       "      <td>1.0</td>\n",
       "      <td>1.638004</td>\n",
       "      <td>0.793752</td>\n",
       "      <td>-0.775613</td>\n",
       "    </tr>\n",
       "    <tr>\n",
       "      <th>24946</th>\n",
       "      <td>0.0</td>\n",
       "      <td>1.0</td>\n",
       "      <td>-0.095912</td>\n",
       "      <td>-1.811485</td>\n",
       "      <td>-0.590245</td>\n",
       "    </tr>\n",
       "    <tr>\n",
       "      <th>24947</th>\n",
       "      <td>1.0</td>\n",
       "      <td>0.0</td>\n",
       "      <td>-0.673884</td>\n",
       "      <td>-1.732448</td>\n",
       "      <td>-0.755524</td>\n",
       "    </tr>\n",
       "    <tr>\n",
       "      <th>24948</th>\n",
       "      <td>0.0</td>\n",
       "      <td>1.0</td>\n",
       "      <td>-1.251856</td>\n",
       "      <td>-0.243827</td>\n",
       "      <td>0.445056</td>\n",
       "    </tr>\n",
       "    <tr>\n",
       "      <th>24949</th>\n",
       "      <td>1.0</td>\n",
       "      <td>0.0</td>\n",
       "      <td>1.445347</td>\n",
       "      <td>0.465308</td>\n",
       "      <td>-0.188900</td>\n",
       "    </tr>\n",
       "  </tbody>\n",
       "</table>\n",
       "<p>24950 rows × 5 columns</p>\n",
       "</div>"
      ],
      "text/plain": [
       "       Female  Male       Age    Height    Weight\n",
       "0         1.0   0.0 -1.059198 -1.161976 -1.207627\n",
       "1         1.0   0.0  1.638004  1.852414  0.806798\n",
       "2         1.0   0.0  0.096746  0.739369  2.224891\n",
       "3         0.0   1.0 -0.481226  0.117685  1.308210\n",
       "4         1.0   0.0 -1.637170 -0.107815  1.476404\n",
       "...       ...   ...       ...       ...       ...\n",
       "24945     0.0   1.0  1.638004  0.793752 -0.775613\n",
       "24946     0.0   1.0 -0.095912 -1.811485 -0.590245\n",
       "24947     1.0   0.0 -0.673884 -1.732448 -0.755524\n",
       "24948     0.0   1.0 -1.251856 -0.243827  0.445056\n",
       "24949     1.0   0.0  1.445347  0.465308 -0.188900\n",
       "\n",
       "[24950 rows x 5 columns]"
      ]
     },
     "execution_count": 82,
     "metadata": {},
     "output_type": "execute_result"
    }
   ],
   "source": [
    "newData"
   ]
  },
  {
   "cell_type": "code",
   "execution_count": 83,
   "id": "5e12de61",
   "metadata": {},
   "outputs": [],
   "source": [
    "count = len(HealthStatus)"
   ]
  },
  {
   "cell_type": "code",
   "execution_count": 84,
   "id": "a1ec0b1e",
   "metadata": {},
   "outputs": [
    {
     "data": {
      "text/plain": [
       "24950"
      ]
     },
     "execution_count": 84,
     "metadata": {},
     "output_type": "execute_result"
    }
   ],
   "source": [
    "count"
   ]
  },
  {
   "cell_type": "code",
   "execution_count": 85,
   "id": "97e0d903",
   "metadata": {},
   "outputs": [],
   "source": [
    "newData['Health_status']=HealthStatus"
   ]
  },
  {
   "cell_type": "code",
   "execution_count": 86,
   "id": "9ac0d81d",
   "metadata": {},
   "outputs": [
    {
     "data": {
      "text/html": [
       "<div>\n",
       "<style scoped>\n",
       "    .dataframe tbody tr th:only-of-type {\n",
       "        vertical-align: middle;\n",
       "    }\n",
       "\n",
       "    .dataframe tbody tr th {\n",
       "        vertical-align: top;\n",
       "    }\n",
       "\n",
       "    .dataframe thead th {\n",
       "        text-align: right;\n",
       "    }\n",
       "</style>\n",
       "<table border=\"1\" class=\"dataframe\">\n",
       "  <thead>\n",
       "    <tr style=\"text-align: right;\">\n",
       "      <th></th>\n",
       "      <th>Female</th>\n",
       "      <th>Male</th>\n",
       "      <th>Age</th>\n",
       "      <th>Height</th>\n",
       "      <th>Weight</th>\n",
       "      <th>Health_status</th>\n",
       "    </tr>\n",
       "  </thead>\n",
       "  <tbody>\n",
       "    <tr>\n",
       "      <th>0</th>\n",
       "      <td>1.0</td>\n",
       "      <td>0.0</td>\n",
       "      <td>-1.059198</td>\n",
       "      <td>-1.161976</td>\n",
       "      <td>-1.207627</td>\n",
       "      <td>Underweight</td>\n",
       "    </tr>\n",
       "    <tr>\n",
       "      <th>1</th>\n",
       "      <td>1.0</td>\n",
       "      <td>0.0</td>\n",
       "      <td>1.638004</td>\n",
       "      <td>1.852414</td>\n",
       "      <td>0.806798</td>\n",
       "      <td>Normal</td>\n",
       "    </tr>\n",
       "    <tr>\n",
       "      <th>2</th>\n",
       "      <td>1.0</td>\n",
       "      <td>0.0</td>\n",
       "      <td>0.096746</td>\n",
       "      <td>0.739369</td>\n",
       "      <td>2.224891</td>\n",
       "      <td>Normal</td>\n",
       "    </tr>\n",
       "    <tr>\n",
       "      <th>3</th>\n",
       "      <td>0.0</td>\n",
       "      <td>1.0</td>\n",
       "      <td>-0.481226</td>\n",
       "      <td>0.117685</td>\n",
       "      <td>1.308210</td>\n",
       "      <td>Normal</td>\n",
       "    </tr>\n",
       "    <tr>\n",
       "      <th>4</th>\n",
       "      <td>1.0</td>\n",
       "      <td>0.0</td>\n",
       "      <td>-1.637170</td>\n",
       "      <td>-0.107815</td>\n",
       "      <td>1.476404</td>\n",
       "      <td>Normal</td>\n",
       "    </tr>\n",
       "    <tr>\n",
       "      <th>...</th>\n",
       "      <td>...</td>\n",
       "      <td>...</td>\n",
       "      <td>...</td>\n",
       "      <td>...</td>\n",
       "      <td>...</td>\n",
       "      <td>...</td>\n",
       "    </tr>\n",
       "    <tr>\n",
       "      <th>24945</th>\n",
       "      <td>0.0</td>\n",
       "      <td>1.0</td>\n",
       "      <td>1.638004</td>\n",
       "      <td>0.793752</td>\n",
       "      <td>-0.775613</td>\n",
       "      <td>Underweight</td>\n",
       "    </tr>\n",
       "    <tr>\n",
       "      <th>24946</th>\n",
       "      <td>0.0</td>\n",
       "      <td>1.0</td>\n",
       "      <td>-0.095912</td>\n",
       "      <td>-1.811485</td>\n",
       "      <td>-0.590245</td>\n",
       "      <td>Normal</td>\n",
       "    </tr>\n",
       "    <tr>\n",
       "      <th>24947</th>\n",
       "      <td>1.0</td>\n",
       "      <td>0.0</td>\n",
       "      <td>-0.673884</td>\n",
       "      <td>-1.732448</td>\n",
       "      <td>-0.755524</td>\n",
       "      <td>Normal</td>\n",
       "    </tr>\n",
       "    <tr>\n",
       "      <th>24948</th>\n",
       "      <td>0.0</td>\n",
       "      <td>1.0</td>\n",
       "      <td>-1.251856</td>\n",
       "      <td>-0.243827</td>\n",
       "      <td>0.445056</td>\n",
       "      <td>Normal</td>\n",
       "    </tr>\n",
       "    <tr>\n",
       "      <th>24949</th>\n",
       "      <td>1.0</td>\n",
       "      <td>0.0</td>\n",
       "      <td>1.445347</td>\n",
       "      <td>0.465308</td>\n",
       "      <td>-0.188900</td>\n",
       "      <td>Normal</td>\n",
       "    </tr>\n",
       "  </tbody>\n",
       "</table>\n",
       "<p>24950 rows × 6 columns</p>\n",
       "</div>"
      ],
      "text/plain": [
       "       Female  Male       Age    Height    Weight Health_status\n",
       "0         1.0   0.0 -1.059198 -1.161976 -1.207627   Underweight\n",
       "1         1.0   0.0  1.638004  1.852414  0.806798        Normal\n",
       "2         1.0   0.0  0.096746  0.739369  2.224891        Normal\n",
       "3         0.0   1.0 -0.481226  0.117685  1.308210        Normal\n",
       "4         1.0   0.0 -1.637170 -0.107815  1.476404        Normal\n",
       "...       ...   ...       ...       ...       ...           ...\n",
       "24945     0.0   1.0  1.638004  0.793752 -0.775613   Underweight\n",
       "24946     0.0   1.0 -0.095912 -1.811485 -0.590245        Normal\n",
       "24947     1.0   0.0 -0.673884 -1.732448 -0.755524        Normal\n",
       "24948     0.0   1.0 -1.251856 -0.243827  0.445056        Normal\n",
       "24949     1.0   0.0  1.445347  0.465308 -0.188900        Normal\n",
       "\n",
       "[24950 rows x 6 columns]"
      ]
     },
     "execution_count": 86,
     "metadata": {},
     "output_type": "execute_result"
    }
   ],
   "source": [
    "newData"
   ]
  },
  {
   "cell_type": "code",
   "execution_count": 87,
   "id": "0eca71b9",
   "metadata": {},
   "outputs": [
    {
     "data": {
      "text/html": [
       "<div>\n",
       "<style scoped>\n",
       "    .dataframe tbody tr th:only-of-type {\n",
       "        vertical-align: middle;\n",
       "    }\n",
       "\n",
       "    .dataframe tbody tr th {\n",
       "        vertical-align: top;\n",
       "    }\n",
       "\n",
       "    .dataframe thead th {\n",
       "        text-align: right;\n",
       "    }\n",
       "</style>\n",
       "<table border=\"1\" class=\"dataframe\">\n",
       "  <thead>\n",
       "    <tr style=\"text-align: right;\">\n",
       "      <th></th>\n",
       "      <th>Age</th>\n",
       "      <th>Height</th>\n",
       "      <th>Weight</th>\n",
       "    </tr>\n",
       "  </thead>\n",
       "  <tbody>\n",
       "    <tr>\n",
       "      <th>0</th>\n",
       "      <td>21</td>\n",
       "      <td>65.78331</td>\n",
       "      <td>112.9925</td>\n",
       "    </tr>\n",
       "    <tr>\n",
       "      <th>1</th>\n",
       "      <td>35</td>\n",
       "      <td>71.51521</td>\n",
       "      <td>136.4873</td>\n",
       "    </tr>\n",
       "    <tr>\n",
       "      <th>2</th>\n",
       "      <td>27</td>\n",
       "      <td>69.39874</td>\n",
       "      <td>153.0269</td>\n",
       "    </tr>\n",
       "    <tr>\n",
       "      <th>3</th>\n",
       "      <td>24</td>\n",
       "      <td>68.21660</td>\n",
       "      <td>142.3354</td>\n",
       "    </tr>\n",
       "    <tr>\n",
       "      <th>4</th>\n",
       "      <td>18</td>\n",
       "      <td>67.78781</td>\n",
       "      <td>144.2971</td>\n",
       "    </tr>\n",
       "    <tr>\n",
       "      <th>...</th>\n",
       "      <td>...</td>\n",
       "      <td>...</td>\n",
       "      <td>...</td>\n",
       "    </tr>\n",
       "    <tr>\n",
       "      <th>24995</th>\n",
       "      <td>35</td>\n",
       "      <td>69.50215</td>\n",
       "      <td>118.0312</td>\n",
       "    </tr>\n",
       "    <tr>\n",
       "      <th>24996</th>\n",
       "      <td>26</td>\n",
       "      <td>64.54826</td>\n",
       "      <td>120.1932</td>\n",
       "    </tr>\n",
       "    <tr>\n",
       "      <th>24997</th>\n",
       "      <td>23</td>\n",
       "      <td>64.69855</td>\n",
       "      <td>118.2655</td>\n",
       "    </tr>\n",
       "    <tr>\n",
       "      <th>24998</th>\n",
       "      <td>20</td>\n",
       "      <td>67.52918</td>\n",
       "      <td>132.2682</td>\n",
       "    </tr>\n",
       "    <tr>\n",
       "      <th>24999</th>\n",
       "      <td>34</td>\n",
       "      <td>68.87761</td>\n",
       "      <td>124.8742</td>\n",
       "    </tr>\n",
       "  </tbody>\n",
       "</table>\n",
       "<p>24950 rows × 3 columns</p>\n",
       "</div>"
      ],
      "text/plain": [
       "       Age    Height    Weight\n",
       "0       21  65.78331  112.9925\n",
       "1       35  71.51521  136.4873\n",
       "2       27  69.39874  153.0269\n",
       "3       24  68.21660  142.3354\n",
       "4       18  67.78781  144.2971\n",
       "...    ...       ...       ...\n",
       "24995   35  69.50215  118.0312\n",
       "24996   26  64.54826  120.1932\n",
       "24997   23  64.69855  118.2655\n",
       "24998   20  67.52918  132.2682\n",
       "24999   34  68.87761  124.8742\n",
       "\n",
       "[24950 rows x 3 columns]"
      ]
     },
     "execution_count": 87,
     "metadata": {},
     "output_type": "execute_result"
    }
   ],
   "source": [
    "df_copy"
   ]
  },
  {
   "cell_type": "code",
   "execution_count": 88,
   "id": "3cf95c90",
   "metadata": {},
   "outputs": [],
   "source": [
    "df_copy['Sex']=sex"
   ]
  },
  {
   "cell_type": "code",
   "execution_count": 89,
   "id": "b63f2aee",
   "metadata": {},
   "outputs": [
    {
     "data": {
      "text/html": [
       "<div>\n",
       "<style scoped>\n",
       "    .dataframe tbody tr th:only-of-type {\n",
       "        vertical-align: middle;\n",
       "    }\n",
       "\n",
       "    .dataframe tbody tr th {\n",
       "        vertical-align: top;\n",
       "    }\n",
       "\n",
       "    .dataframe thead th {\n",
       "        text-align: right;\n",
       "    }\n",
       "</style>\n",
       "<table border=\"1\" class=\"dataframe\">\n",
       "  <thead>\n",
       "    <tr style=\"text-align: right;\">\n",
       "      <th></th>\n",
       "      <th>Age</th>\n",
       "      <th>Height</th>\n",
       "      <th>Weight</th>\n",
       "      <th>Sex</th>\n",
       "    </tr>\n",
       "  </thead>\n",
       "  <tbody>\n",
       "    <tr>\n",
       "      <th>0</th>\n",
       "      <td>21</td>\n",
       "      <td>65.78331</td>\n",
       "      <td>112.9925</td>\n",
       "      <td>Female</td>\n",
       "    </tr>\n",
       "    <tr>\n",
       "      <th>1</th>\n",
       "      <td>35</td>\n",
       "      <td>71.51521</td>\n",
       "      <td>136.4873</td>\n",
       "      <td>Female</td>\n",
       "    </tr>\n",
       "    <tr>\n",
       "      <th>2</th>\n",
       "      <td>27</td>\n",
       "      <td>69.39874</td>\n",
       "      <td>153.0269</td>\n",
       "      <td>Female</td>\n",
       "    </tr>\n",
       "    <tr>\n",
       "      <th>3</th>\n",
       "      <td>24</td>\n",
       "      <td>68.21660</td>\n",
       "      <td>142.3354</td>\n",
       "      <td>Male</td>\n",
       "    </tr>\n",
       "    <tr>\n",
       "      <th>4</th>\n",
       "      <td>18</td>\n",
       "      <td>67.78781</td>\n",
       "      <td>144.2971</td>\n",
       "      <td>Female</td>\n",
       "    </tr>\n",
       "    <tr>\n",
       "      <th>...</th>\n",
       "      <td>...</td>\n",
       "      <td>...</td>\n",
       "      <td>...</td>\n",
       "      <td>...</td>\n",
       "    </tr>\n",
       "    <tr>\n",
       "      <th>24995</th>\n",
       "      <td>35</td>\n",
       "      <td>69.50215</td>\n",
       "      <td>118.0312</td>\n",
       "      <td>Male</td>\n",
       "    </tr>\n",
       "    <tr>\n",
       "      <th>24996</th>\n",
       "      <td>26</td>\n",
       "      <td>64.54826</td>\n",
       "      <td>120.1932</td>\n",
       "      <td>Male</td>\n",
       "    </tr>\n",
       "    <tr>\n",
       "      <th>24997</th>\n",
       "      <td>23</td>\n",
       "      <td>64.69855</td>\n",
       "      <td>118.2655</td>\n",
       "      <td>Female</td>\n",
       "    </tr>\n",
       "    <tr>\n",
       "      <th>24998</th>\n",
       "      <td>20</td>\n",
       "      <td>67.52918</td>\n",
       "      <td>132.2682</td>\n",
       "      <td>Male</td>\n",
       "    </tr>\n",
       "    <tr>\n",
       "      <th>24999</th>\n",
       "      <td>34</td>\n",
       "      <td>68.87761</td>\n",
       "      <td>124.8742</td>\n",
       "      <td>Female</td>\n",
       "    </tr>\n",
       "  </tbody>\n",
       "</table>\n",
       "<p>24950 rows × 4 columns</p>\n",
       "</div>"
      ],
      "text/plain": [
       "       Age    Height    Weight     Sex\n",
       "0       21  65.78331  112.9925  Female\n",
       "1       35  71.51521  136.4873  Female\n",
       "2       27  69.39874  153.0269  Female\n",
       "3       24  68.21660  142.3354    Male\n",
       "4       18  67.78781  144.2971  Female\n",
       "...    ...       ...       ...     ...\n",
       "24995   35  69.50215  118.0312    Male\n",
       "24996   26  64.54826  120.1932    Male\n",
       "24997   23  64.69855  118.2655  Female\n",
       "24998   20  67.52918  132.2682    Male\n",
       "24999   34  68.87761  124.8742  Female\n",
       "\n",
       "[24950 rows x 4 columns]"
      ]
     },
     "execution_count": 89,
     "metadata": {},
     "output_type": "execute_result"
    }
   ],
   "source": [
    "df_copy"
   ]
  },
  {
   "cell_type": "code",
   "execution_count": 90,
   "id": "304136c4",
   "metadata": {},
   "outputs": [],
   "source": [
    "df_copy['Health_status']=HealthStatus"
   ]
  },
  {
   "cell_type": "code",
   "execution_count": 91,
   "id": "ccb9da10",
   "metadata": {},
   "outputs": [
    {
     "data": {
      "text/html": [
       "<div>\n",
       "<style scoped>\n",
       "    .dataframe tbody tr th:only-of-type {\n",
       "        vertical-align: middle;\n",
       "    }\n",
       "\n",
       "    .dataframe tbody tr th {\n",
       "        vertical-align: top;\n",
       "    }\n",
       "\n",
       "    .dataframe thead th {\n",
       "        text-align: right;\n",
       "    }\n",
       "</style>\n",
       "<table border=\"1\" class=\"dataframe\">\n",
       "  <thead>\n",
       "    <tr style=\"text-align: right;\">\n",
       "      <th></th>\n",
       "      <th>Age</th>\n",
       "      <th>Height</th>\n",
       "      <th>Weight</th>\n",
       "      <th>Sex</th>\n",
       "      <th>Health_status</th>\n",
       "    </tr>\n",
       "  </thead>\n",
       "  <tbody>\n",
       "    <tr>\n",
       "      <th>0</th>\n",
       "      <td>21</td>\n",
       "      <td>65.78331</td>\n",
       "      <td>112.9925</td>\n",
       "      <td>Female</td>\n",
       "      <td>Underweight</td>\n",
       "    </tr>\n",
       "    <tr>\n",
       "      <th>1</th>\n",
       "      <td>35</td>\n",
       "      <td>71.51521</td>\n",
       "      <td>136.4873</td>\n",
       "      <td>Female</td>\n",
       "      <td>Normal</td>\n",
       "    </tr>\n",
       "    <tr>\n",
       "      <th>2</th>\n",
       "      <td>27</td>\n",
       "      <td>69.39874</td>\n",
       "      <td>153.0269</td>\n",
       "      <td>Female</td>\n",
       "      <td>Normal</td>\n",
       "    </tr>\n",
       "    <tr>\n",
       "      <th>3</th>\n",
       "      <td>24</td>\n",
       "      <td>68.21660</td>\n",
       "      <td>142.3354</td>\n",
       "      <td>Male</td>\n",
       "      <td>Normal</td>\n",
       "    </tr>\n",
       "    <tr>\n",
       "      <th>4</th>\n",
       "      <td>18</td>\n",
       "      <td>67.78781</td>\n",
       "      <td>144.2971</td>\n",
       "      <td>Female</td>\n",
       "      <td>Normal</td>\n",
       "    </tr>\n",
       "    <tr>\n",
       "      <th>...</th>\n",
       "      <td>...</td>\n",
       "      <td>...</td>\n",
       "      <td>...</td>\n",
       "      <td>...</td>\n",
       "      <td>...</td>\n",
       "    </tr>\n",
       "    <tr>\n",
       "      <th>24995</th>\n",
       "      <td>35</td>\n",
       "      <td>69.50215</td>\n",
       "      <td>118.0312</td>\n",
       "      <td>Male</td>\n",
       "      <td>Underweight</td>\n",
       "    </tr>\n",
       "    <tr>\n",
       "      <th>24996</th>\n",
       "      <td>26</td>\n",
       "      <td>64.54826</td>\n",
       "      <td>120.1932</td>\n",
       "      <td>Male</td>\n",
       "      <td>Normal</td>\n",
       "    </tr>\n",
       "    <tr>\n",
       "      <th>24997</th>\n",
       "      <td>23</td>\n",
       "      <td>64.69855</td>\n",
       "      <td>118.2655</td>\n",
       "      <td>Female</td>\n",
       "      <td>Normal</td>\n",
       "    </tr>\n",
       "    <tr>\n",
       "      <th>24998</th>\n",
       "      <td>20</td>\n",
       "      <td>67.52918</td>\n",
       "      <td>132.2682</td>\n",
       "      <td>Male</td>\n",
       "      <td>Normal</td>\n",
       "    </tr>\n",
       "    <tr>\n",
       "      <th>24999</th>\n",
       "      <td>34</td>\n",
       "      <td>68.87761</td>\n",
       "      <td>124.8742</td>\n",
       "      <td>Female</td>\n",
       "      <td>Normal</td>\n",
       "    </tr>\n",
       "  </tbody>\n",
       "</table>\n",
       "<p>24950 rows × 5 columns</p>\n",
       "</div>"
      ],
      "text/plain": [
       "       Age    Height    Weight     Sex Health_status\n",
       "0       21  65.78331  112.9925  Female   Underweight\n",
       "1       35  71.51521  136.4873  Female        Normal\n",
       "2       27  69.39874  153.0269  Female        Normal\n",
       "3       24  68.21660  142.3354    Male        Normal\n",
       "4       18  67.78781  144.2971  Female        Normal\n",
       "...    ...       ...       ...     ...           ...\n",
       "24995   35  69.50215  118.0312    Male   Underweight\n",
       "24996   26  64.54826  120.1932    Male        Normal\n",
       "24997   23  64.69855  118.2655  Female        Normal\n",
       "24998   20  67.52918  132.2682    Male        Normal\n",
       "24999   34  68.87761  124.8742  Female        Normal\n",
       "\n",
       "[24950 rows x 5 columns]"
      ]
     },
     "execution_count": 91,
     "metadata": {},
     "output_type": "execute_result"
    }
   ],
   "source": [
    "df_copy"
   ]
  },
  {
   "cell_type": "code",
   "execution_count": 92,
   "id": "5ca123b3",
   "metadata": {},
   "outputs": [
    {
     "data": {
      "text/html": [
       "<div>\n",
       "<style scoped>\n",
       "    .dataframe tbody tr th:only-of-type {\n",
       "        vertical-align: middle;\n",
       "    }\n",
       "\n",
       "    .dataframe tbody tr th {\n",
       "        vertical-align: top;\n",
       "    }\n",
       "\n",
       "    .dataframe thead th {\n",
       "        text-align: right;\n",
       "    }\n",
       "</style>\n",
       "<table border=\"1\" class=\"dataframe\">\n",
       "  <thead>\n",
       "    <tr style=\"text-align: right;\">\n",
       "      <th></th>\n",
       "      <th>Age</th>\n",
       "      <th>Height</th>\n",
       "      <th>Weight</th>\n",
       "      <th>Sex</th>\n",
       "      <th>Health_status</th>\n",
       "    </tr>\n",
       "  </thead>\n",
       "  <tbody>\n",
       "    <tr>\n",
       "      <th>0</th>\n",
       "      <td>21</td>\n",
       "      <td>65.78331</td>\n",
       "      <td>112.9925</td>\n",
       "      <td>Female</td>\n",
       "      <td>Underweight</td>\n",
       "    </tr>\n",
       "    <tr>\n",
       "      <th>1</th>\n",
       "      <td>35</td>\n",
       "      <td>71.51521</td>\n",
       "      <td>136.4873</td>\n",
       "      <td>Female</td>\n",
       "      <td>Normal</td>\n",
       "    </tr>\n",
       "    <tr>\n",
       "      <th>2</th>\n",
       "      <td>27</td>\n",
       "      <td>69.39874</td>\n",
       "      <td>153.0269</td>\n",
       "      <td>Female</td>\n",
       "      <td>Normal</td>\n",
       "    </tr>\n",
       "    <tr>\n",
       "      <th>3</th>\n",
       "      <td>24</td>\n",
       "      <td>68.21660</td>\n",
       "      <td>142.3354</td>\n",
       "      <td>Male</td>\n",
       "      <td>Normal</td>\n",
       "    </tr>\n",
       "    <tr>\n",
       "      <th>4</th>\n",
       "      <td>18</td>\n",
       "      <td>67.78781</td>\n",
       "      <td>144.2971</td>\n",
       "      <td>Female</td>\n",
       "      <td>Normal</td>\n",
       "    </tr>\n",
       "    <tr>\n",
       "      <th>5</th>\n",
       "      <td>22</td>\n",
       "      <td>68.69784</td>\n",
       "      <td>123.3024</td>\n",
       "      <td>Female</td>\n",
       "      <td>Underweight</td>\n",
       "    </tr>\n",
       "    <tr>\n",
       "      <th>7</th>\n",
       "      <td>19</td>\n",
       "      <td>70.01472</td>\n",
       "      <td>136.4623</td>\n",
       "      <td>Male</td>\n",
       "      <td>Normal</td>\n",
       "    </tr>\n",
       "    <tr>\n",
       "      <th>8</th>\n",
       "      <td>28</td>\n",
       "      <td>67.90265</td>\n",
       "      <td>112.3723</td>\n",
       "      <td>Female</td>\n",
       "      <td>Underweight</td>\n",
       "    </tr>\n",
       "    <tr>\n",
       "      <th>9</th>\n",
       "      <td>25</td>\n",
       "      <td>66.78236</td>\n",
       "      <td>120.6672</td>\n",
       "      <td>Male</td>\n",
       "      <td>Normal</td>\n",
       "    </tr>\n",
       "    <tr>\n",
       "      <th>11</th>\n",
       "      <td>28</td>\n",
       "      <td>67.62333</td>\n",
       "      <td>114.1430</td>\n",
       "      <td>Female</td>\n",
       "      <td>Underweight</td>\n",
       "    </tr>\n",
       "  </tbody>\n",
       "</table>\n",
       "</div>"
      ],
      "text/plain": [
       "    Age    Height    Weight     Sex Health_status\n",
       "0    21  65.78331  112.9925  Female   Underweight\n",
       "1    35  71.51521  136.4873  Female        Normal\n",
       "2    27  69.39874  153.0269  Female        Normal\n",
       "3    24  68.21660  142.3354    Male        Normal\n",
       "4    18  67.78781  144.2971  Female        Normal\n",
       "5    22  68.69784  123.3024  Female   Underweight\n",
       "7    19  70.01472  136.4623    Male        Normal\n",
       "8    28  67.90265  112.3723  Female   Underweight\n",
       "9    25  66.78236  120.6672    Male        Normal\n",
       "11   28  67.62333  114.1430  Female   Underweight"
      ]
     },
     "execution_count": 92,
     "metadata": {},
     "output_type": "execute_result"
    }
   ],
   "source": [
    "df_copy.head(10)"
   ]
  },
  {
   "cell_type": "markdown",
   "id": "1bb20ec0",
   "metadata": {},
   "source": [
    "Health Predicted by model categorized as Underweight, Normal, Overweight, Obese, Extreme Obese."
   ]
  },
  {
   "cell_type": "markdown",
   "id": "1d1f8bd5",
   "metadata": {},
   "source": [
    "**~ MADE BY AMREEN KAZI (02) & PRATIKSHA PANDA (09)**"
   ]
  }
 ],
 "metadata": {
  "kernelspec": {
   "display_name": "Python 3 (ipykernel)",
   "language": "python",
   "name": "python3"
  },
  "language_info": {
   "codemirror_mode": {
    "name": "ipython",
    "version": 3
   },
   "file_extension": ".py",
   "mimetype": "text/x-python",
   "name": "python",
   "nbconvert_exporter": "python",
   "pygments_lexer": "ipython3",
   "version": "3.11.5"
  }
 },
 "nbformat": 4,
 "nbformat_minor": 5
}
